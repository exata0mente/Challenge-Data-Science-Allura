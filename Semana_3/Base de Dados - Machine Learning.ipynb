{
 "cells": [
  {
   "cell_type": "markdown",
   "id": "678012f3",
   "metadata": {},
   "source": [
    "## Base de Dados - Machine Learning"
   ]
  },
  {
   "cell_type": "code",
   "execution_count": 2,
   "id": "8a37ac69",
   "metadata": {},
   "outputs": [],
   "source": [
    "import pandas as pd\n",
    "import numpy as np\n",
    "import seaborn as sns\n",
    "import matplotlib.pyplot as plt"
   ]
  },
  {
   "cell_type": "code",
   "execution_count": 3,
   "id": "06063023",
   "metadata": {},
   "outputs": [],
   "source": [
    "SEED = 5\n",
    "np.random.seed(SEED)"
   ]
  },
  {
   "cell_type": "code",
   "execution_count": 4,
   "id": "b1c0990d",
   "metadata": {},
   "outputs": [
    {
     "data": {
      "text/html": [
       "<div>\n",
       "<style scoped>\n",
       "    .dataframe tbody tr th:only-of-type {\n",
       "        vertical-align: middle;\n",
       "    }\n",
       "\n",
       "    .dataframe tbody tr th {\n",
       "        vertical-align: top;\n",
       "    }\n",
       "\n",
       "    .dataframe thead th {\n",
       "        text-align: right;\n",
       "    }\n",
       "</style>\n",
       "<table border=\"1\" class=\"dataframe\">\n",
       "  <thead>\n",
       "    <tr style=\"text-align: right;\">\n",
       "      <th></th>\n",
       "      <th>id_cliente</th>\n",
       "      <th>fl_inativo</th>\n",
       "      <th>sexo</th>\n",
       "      <th>fl_maior_65_anos</th>\n",
       "      <th>fl_tem_parceiro</th>\n",
       "      <th>fl_dependentes</th>\n",
       "      <th>meses_contrato</th>\n",
       "      <th>fl_servico_telefonico</th>\n",
       "      <th>fl_multiplas_linhas</th>\n",
       "      <th>fl_servico_seguranca_online</th>\n",
       "      <th>...</th>\n",
       "      <th>fl_servico_internet_dsl</th>\n",
       "      <th>fl_servico_internet_fibra_otica</th>\n",
       "      <th>fl_sem_servico_internet</th>\n",
       "      <th>fl_contrato_anual</th>\n",
       "      <th>fl_contrato_bienal</th>\n",
       "      <th>fl_contrato_mensal</th>\n",
       "      <th>fl_pagamento_ccredito</th>\n",
       "      <th>fl_pagamento_cheque_correio</th>\n",
       "      <th>fl_pagamento_cheque_eletronico</th>\n",
       "      <th>fl_pagamento_transf_bancaria</th>\n",
       "    </tr>\n",
       "  </thead>\n",
       "  <tbody>\n",
       "    <tr>\n",
       "      <th>0</th>\n",
       "      <td>0002-ORFBO</td>\n",
       "      <td>0</td>\n",
       "      <td>Feminino</td>\n",
       "      <td>0</td>\n",
       "      <td>1</td>\n",
       "      <td>1</td>\n",
       "      <td>9</td>\n",
       "      <td>1</td>\n",
       "      <td>0</td>\n",
       "      <td>0</td>\n",
       "      <td>...</td>\n",
       "      <td>1</td>\n",
       "      <td>0</td>\n",
       "      <td>0</td>\n",
       "      <td>1</td>\n",
       "      <td>0</td>\n",
       "      <td>0</td>\n",
       "      <td>0</td>\n",
       "      <td>1</td>\n",
       "      <td>0</td>\n",
       "      <td>0</td>\n",
       "    </tr>\n",
       "    <tr>\n",
       "      <th>1</th>\n",
       "      <td>0003-MKNFE</td>\n",
       "      <td>0</td>\n",
       "      <td>Masculino</td>\n",
       "      <td>0</td>\n",
       "      <td>0</td>\n",
       "      <td>0</td>\n",
       "      <td>9</td>\n",
       "      <td>1</td>\n",
       "      <td>1</td>\n",
       "      <td>0</td>\n",
       "      <td>...</td>\n",
       "      <td>1</td>\n",
       "      <td>0</td>\n",
       "      <td>0</td>\n",
       "      <td>0</td>\n",
       "      <td>0</td>\n",
       "      <td>1</td>\n",
       "      <td>0</td>\n",
       "      <td>1</td>\n",
       "      <td>0</td>\n",
       "      <td>0</td>\n",
       "    </tr>\n",
       "    <tr>\n",
       "      <th>2</th>\n",
       "      <td>0004-TLHLJ</td>\n",
       "      <td>1</td>\n",
       "      <td>Masculino</td>\n",
       "      <td>0</td>\n",
       "      <td>0</td>\n",
       "      <td>0</td>\n",
       "      <td>4</td>\n",
       "      <td>1</td>\n",
       "      <td>0</td>\n",
       "      <td>0</td>\n",
       "      <td>...</td>\n",
       "      <td>0</td>\n",
       "      <td>1</td>\n",
       "      <td>0</td>\n",
       "      <td>0</td>\n",
       "      <td>0</td>\n",
       "      <td>1</td>\n",
       "      <td>0</td>\n",
       "      <td>0</td>\n",
       "      <td>1</td>\n",
       "      <td>0</td>\n",
       "    </tr>\n",
       "    <tr>\n",
       "      <th>3</th>\n",
       "      <td>0011-IGKFF</td>\n",
       "      <td>1</td>\n",
       "      <td>Masculino</td>\n",
       "      <td>1</td>\n",
       "      <td>1</td>\n",
       "      <td>0</td>\n",
       "      <td>13</td>\n",
       "      <td>1</td>\n",
       "      <td>0</td>\n",
       "      <td>0</td>\n",
       "      <td>...</td>\n",
       "      <td>0</td>\n",
       "      <td>1</td>\n",
       "      <td>0</td>\n",
       "      <td>0</td>\n",
       "      <td>0</td>\n",
       "      <td>1</td>\n",
       "      <td>0</td>\n",
       "      <td>0</td>\n",
       "      <td>1</td>\n",
       "      <td>0</td>\n",
       "    </tr>\n",
       "    <tr>\n",
       "      <th>4</th>\n",
       "      <td>0013-EXCHZ</td>\n",
       "      <td>1</td>\n",
       "      <td>Feminino</td>\n",
       "      <td>1</td>\n",
       "      <td>1</td>\n",
       "      <td>0</td>\n",
       "      <td>3</td>\n",
       "      <td>1</td>\n",
       "      <td>0</td>\n",
       "      <td>0</td>\n",
       "      <td>...</td>\n",
       "      <td>0</td>\n",
       "      <td>1</td>\n",
       "      <td>0</td>\n",
       "      <td>0</td>\n",
       "      <td>0</td>\n",
       "      <td>1</td>\n",
       "      <td>0</td>\n",
       "      <td>1</td>\n",
       "      <td>0</td>\n",
       "      <td>0</td>\n",
       "    </tr>\n",
       "  </tbody>\n",
       "</table>\n",
       "<p>5 rows × 29 columns</p>\n",
       "</div>"
      ],
      "text/plain": [
       "   id_cliente  fl_inativo       sexo  fl_maior_65_anos  fl_tem_parceiro  \\\n",
       "0  0002-ORFBO           0   Feminino                 0                1   \n",
       "1  0003-MKNFE           0  Masculino                 0                0   \n",
       "2  0004-TLHLJ           1  Masculino                 0                0   \n",
       "3  0011-IGKFF           1  Masculino                 1                1   \n",
       "4  0013-EXCHZ           1   Feminino                 1                1   \n",
       "\n",
       "   fl_dependentes  meses_contrato  fl_servico_telefonico  fl_multiplas_linhas  \\\n",
       "0               1               9                      1                    0   \n",
       "1               0               9                      1                    1   \n",
       "2               0               4                      1                    0   \n",
       "3               0              13                      1                    0   \n",
       "4               0               3                      1                    0   \n",
       "\n",
       "   fl_servico_seguranca_online  ...  fl_servico_internet_dsl  \\\n",
       "0                            0  ...                        1   \n",
       "1                            0  ...                        1   \n",
       "2                            0  ...                        0   \n",
       "3                            0  ...                        0   \n",
       "4                            0  ...                        0   \n",
       "\n",
       "   fl_servico_internet_fibra_otica  fl_sem_servico_internet  \\\n",
       "0                                0                        0   \n",
       "1                                0                        0   \n",
       "2                                1                        0   \n",
       "3                                1                        0   \n",
       "4                                1                        0   \n",
       "\n",
       "   fl_contrato_anual  fl_contrato_bienal  fl_contrato_mensal  \\\n",
       "0                  1                   0                   0   \n",
       "1                  0                   0                   1   \n",
       "2                  0                   0                   1   \n",
       "3                  0                   0                   1   \n",
       "4                  0                   0                   1   \n",
       "\n",
       "   fl_pagamento_ccredito  fl_pagamento_cheque_correio  \\\n",
       "0                      0                            1   \n",
       "1                      0                            1   \n",
       "2                      0                            0   \n",
       "3                      0                            0   \n",
       "4                      0                            1   \n",
       "\n",
       "   fl_pagamento_cheque_eletronico  fl_pagamento_transf_bancaria  \n",
       "0                               0                             0  \n",
       "1                               0                             0  \n",
       "2                               1                             0  \n",
       "3                               1                             0  \n",
       "4                               0                             0  \n",
       "\n",
       "[5 rows x 29 columns]"
      ]
     },
     "execution_count": 4,
     "metadata": {},
     "output_type": "execute_result"
    }
   ],
   "source": [
    "dados = pd.read_json('../Dados/df_para_ml.json')\n",
    "dados.head()"
   ]
  },
  {
   "cell_type": "markdown",
   "id": "2be32ece",
   "metadata": {},
   "source": [
    "### Verificar se a variável target está balanceada"
   ]
  },
  {
   "cell_type": "code",
   "execution_count": 5,
   "id": "5557c391",
   "metadata": {},
   "outputs": [
    {
     "data": {
      "text/plain": [
       "0    5174\n",
       "1    1869\n",
       "Name: fl_inativo, dtype: int64"
      ]
     },
     "execution_count": 5,
     "metadata": {},
     "output_type": "execute_result"
    }
   ],
   "source": [
    "dados.fl_inativo.value_counts()"
   ]
  },
  {
   "cell_type": "code",
   "execution_count": 6,
   "id": "dade0b3e",
   "metadata": {},
   "outputs": [
    {
     "data": {
      "text/plain": [
       "0    73.463013\n",
       "1    26.536987\n",
       "Name: fl_inativo, dtype: float64"
      ]
     },
     "execution_count": 6,
     "metadata": {},
     "output_type": "execute_result"
    }
   ],
   "source": [
    "dados.fl_inativo.value_counts(normalize=True) * 100"
   ]
  },
  {
   "cell_type": "code",
   "execution_count": 7,
   "id": "f7a2767c",
   "metadata": {},
   "outputs": [
    {
     "data": {
      "text/plain": [
       "[Text(0, 0, '5174'), Text(0, 0, '1869')]"
      ]
     },
     "execution_count": 7,
     "metadata": {},
     "output_type": "execute_result"
    },
    {
     "data": {
      "image/png": "[encoded data removed]",
      "text/plain": [
       "<Figure size 432x288 with 1 Axes>"
      ]
     },
     "metadata": {
      "needs_background": "light"
     },
     "output_type": "display_data"
    }
   ],
   "source": [
    "ax = sns.countplot(x='fl_inativo', data=dados)\n",
    "ax.get_yaxis().set_visible(False)\n",
    "plt.xlabel('Churn')\n",
    "ax.bar_label(container = ax.containers[0])"
   ]
  },
  {
   "cell_type": "markdown",
   "id": "a620d2ed",
   "metadata": {},
   "source": [
    "Temos que 73% da base está classificada como 0 (não churn) apresentando um desbalanceamento"
   ]
  },
  {
   "cell_type": "markdown",
   "id": "28e56c3e",
   "metadata": {},
   "source": [
    "#### Balancendo os dados"
   ]
  },
  {
   "cell_type": "code",
   "execution_count": 8,
   "id": "dba371e5",
   "metadata": {},
   "outputs": [],
   "source": [
    "from imblearn.over_sampling import SMOTE"
   ]
  },
  {
   "cell_type": "markdown",
   "id": "74981dc3",
   "metadata": {},
   "source": [
    "Separando X e y"
   ]
  },
  {
   "cell_type": "markdown",
   "id": "6bba5ed0",
   "metadata": {},
   "source": [
    "Não irei considerar a variável sexo pois entendi que não relação com o churn, seja por modelo de negócio ou correlação da base"
   ]
  },
  {
   "cell_type": "code",
   "execution_count": 9,
   "id": "d0d0ecea",
   "metadata": {},
   "outputs": [],
   "source": [
    "x = dados.drop(columns=['id_cliente', 'sexo', 'valor_servico_diario', 'fl_inativo'])\n",
    "y = dados.fl_inativo"
   ]
  },
  {
   "cell_type": "code",
   "execution_count": 10,
   "id": "419d13f6",
   "metadata": {},
   "outputs": [],
   "source": [
    "smote = SMOTE(random_state=SEED)"
   ]
  },
  {
   "cell_type": "markdown",
   "id": "ca236a46",
   "metadata": {},
   "source": [
    "[SMOTE.fit_resample](https://imbalanced-learn.org/stable/references/generated/imblearn.over_sampling.SMOTE.html#imblearn.over_sampling.SMOTE.fit_resample)"
   ]
  },
  {
   "cell_type": "code",
   "execution_count": 11,
   "id": "95a91899",
   "metadata": {},
   "outputs": [
    {
     "data": {
      "text/plain": [
       "(7043, 29)"
      ]
     },
     "execution_count": 11,
     "metadata": {},
     "output_type": "execute_result"
    }
   ],
   "source": [
    "dados.shape"
   ]
  },
  {
   "cell_type": "code",
   "execution_count": 12,
   "id": "0383a79d",
   "metadata": {},
   "outputs": [],
   "source": [
    "x_resample, y_resample = smote.fit_resample(x, y)"
   ]
  },
  {
   "cell_type": "code",
   "execution_count": 13,
   "id": "d1f69a15",
   "metadata": {},
   "outputs": [
    {
     "data": {
      "text/html": [
       "<div>\n",
       "<style scoped>\n",
       "    .dataframe tbody tr th:only-of-type {\n",
       "        vertical-align: middle;\n",
       "    }\n",
       "\n",
       "    .dataframe tbody tr th {\n",
       "        vertical-align: top;\n",
       "    }\n",
       "\n",
       "    .dataframe thead th {\n",
       "        text-align: right;\n",
       "    }\n",
       "</style>\n",
       "<table border=\"1\" class=\"dataframe\">\n",
       "  <thead>\n",
       "    <tr style=\"text-align: right;\">\n",
       "      <th></th>\n",
       "      <th>fl_inativo</th>\n",
       "      <th>fl_maior_65_anos</th>\n",
       "      <th>fl_tem_parceiro</th>\n",
       "      <th>fl_dependentes</th>\n",
       "      <th>meses_contrato</th>\n",
       "      <th>fl_servico_telefonico</th>\n",
       "      <th>fl_multiplas_linhas</th>\n",
       "      <th>fl_servico_seguranca_online</th>\n",
       "      <th>fl_servico_backup_online</th>\n",
       "      <th>fl_servico_protecao_dispositivo</th>\n",
       "      <th>...</th>\n",
       "      <th>fl_servico_internet_dsl</th>\n",
       "      <th>fl_servico_internet_fibra_otica</th>\n",
       "      <th>fl_sem_servico_internet</th>\n",
       "      <th>fl_contrato_anual</th>\n",
       "      <th>fl_contrato_bienal</th>\n",
       "      <th>fl_contrato_mensal</th>\n",
       "      <th>fl_pagamento_ccredito</th>\n",
       "      <th>fl_pagamento_cheque_correio</th>\n",
       "      <th>fl_pagamento_cheque_eletronico</th>\n",
       "      <th>fl_pagamento_transf_bancaria</th>\n",
       "    </tr>\n",
       "  </thead>\n",
       "  <tbody>\n",
       "    <tr>\n",
       "      <th>0</th>\n",
       "      <td>0</td>\n",
       "      <td>0</td>\n",
       "      <td>1</td>\n",
       "      <td>1</td>\n",
       "      <td>9</td>\n",
       "      <td>1</td>\n",
       "      <td>0</td>\n",
       "      <td>0</td>\n",
       "      <td>1</td>\n",
       "      <td>0</td>\n",
       "      <td>...</td>\n",
       "      <td>1</td>\n",
       "      <td>0</td>\n",
       "      <td>0</td>\n",
       "      <td>1</td>\n",
       "      <td>0</td>\n",
       "      <td>0</td>\n",
       "      <td>0</td>\n",
       "      <td>1</td>\n",
       "      <td>0</td>\n",
       "      <td>0</td>\n",
       "    </tr>\n",
       "    <tr>\n",
       "      <th>1</th>\n",
       "      <td>0</td>\n",
       "      <td>0</td>\n",
       "      <td>0</td>\n",
       "      <td>0</td>\n",
       "      <td>9</td>\n",
       "      <td>1</td>\n",
       "      <td>1</td>\n",
       "      <td>0</td>\n",
       "      <td>0</td>\n",
       "      <td>0</td>\n",
       "      <td>...</td>\n",
       "      <td>1</td>\n",
       "      <td>0</td>\n",
       "      <td>0</td>\n",
       "      <td>0</td>\n",
       "      <td>0</td>\n",
       "      <td>1</td>\n",
       "      <td>0</td>\n",
       "      <td>1</td>\n",
       "      <td>0</td>\n",
       "      <td>0</td>\n",
       "    </tr>\n",
       "    <tr>\n",
       "      <th>2</th>\n",
       "      <td>1</td>\n",
       "      <td>0</td>\n",
       "      <td>0</td>\n",
       "      <td>0</td>\n",
       "      <td>4</td>\n",
       "      <td>1</td>\n",
       "      <td>0</td>\n",
       "      <td>0</td>\n",
       "      <td>0</td>\n",
       "      <td>1</td>\n",
       "      <td>...</td>\n",
       "      <td>0</td>\n",
       "      <td>1</td>\n",
       "      <td>0</td>\n",
       "      <td>0</td>\n",
       "      <td>0</td>\n",
       "      <td>1</td>\n",
       "      <td>0</td>\n",
       "      <td>0</td>\n",
       "      <td>1</td>\n",
       "      <td>0</td>\n",
       "    </tr>\n",
       "    <tr>\n",
       "      <th>3</th>\n",
       "      <td>1</td>\n",
       "      <td>1</td>\n",
       "      <td>1</td>\n",
       "      <td>0</td>\n",
       "      <td>13</td>\n",
       "      <td>1</td>\n",
       "      <td>0</td>\n",
       "      <td>0</td>\n",
       "      <td>1</td>\n",
       "      <td>1</td>\n",
       "      <td>...</td>\n",
       "      <td>0</td>\n",
       "      <td>1</td>\n",
       "      <td>0</td>\n",
       "      <td>0</td>\n",
       "      <td>0</td>\n",
       "      <td>1</td>\n",
       "      <td>0</td>\n",
       "      <td>0</td>\n",
       "      <td>1</td>\n",
       "      <td>0</td>\n",
       "    </tr>\n",
       "    <tr>\n",
       "      <th>4</th>\n",
       "      <td>1</td>\n",
       "      <td>1</td>\n",
       "      <td>1</td>\n",
       "      <td>0</td>\n",
       "      <td>3</td>\n",
       "      <td>1</td>\n",
       "      <td>0</td>\n",
       "      <td>0</td>\n",
       "      <td>0</td>\n",
       "      <td>0</td>\n",
       "      <td>...</td>\n",
       "      <td>0</td>\n",
       "      <td>1</td>\n",
       "      <td>0</td>\n",
       "      <td>0</td>\n",
       "      <td>0</td>\n",
       "      <td>1</td>\n",
       "      <td>0</td>\n",
       "      <td>1</td>\n",
       "      <td>0</td>\n",
       "      <td>0</td>\n",
       "    </tr>\n",
       "  </tbody>\n",
       "</table>\n",
       "<p>5 rows × 26 columns</p>\n",
       "</div>"
      ],
      "text/plain": [
       "   fl_inativo  fl_maior_65_anos  fl_tem_parceiro  fl_dependentes  \\\n",
       "0           0                 0                1               1   \n",
       "1           0                 0                0               0   \n",
       "2           1                 0                0               0   \n",
       "3           1                 1                1               0   \n",
       "4           1                 1                1               0   \n",
       "\n",
       "   meses_contrato  fl_servico_telefonico  fl_multiplas_linhas  \\\n",
       "0               9                      1                    0   \n",
       "1               9                      1                    1   \n",
       "2               4                      1                    0   \n",
       "3              13                      1                    0   \n",
       "4               3                      1                    0   \n",
       "\n",
       "   fl_servico_seguranca_online  fl_servico_backup_online  \\\n",
       "0                            0                         1   \n",
       "1                            0                         0   \n",
       "2                            0                         0   \n",
       "3                            0                         1   \n",
       "4                            0                         0   \n",
       "\n",
       "   fl_servico_protecao_dispositivo  ...  fl_servico_internet_dsl  \\\n",
       "0                                0  ...                        1   \n",
       "1                                0  ...                        1   \n",
       "2                                1  ...                        0   \n",
       "3                                1  ...                        0   \n",
       "4                                0  ...                        0   \n",
       "\n",
       "   fl_servico_internet_fibra_otica  fl_sem_servico_internet  \\\n",
       "0                                0                        0   \n",
       "1                                0                        0   \n",
       "2                                1                        0   \n",
       "3                                1                        0   \n",
       "4                                1                        0   \n",
       "\n",
       "   fl_contrato_anual  fl_contrato_bienal  fl_contrato_mensal  \\\n",
       "0                  1                   0                   0   \n",
       "1                  0                   0                   1   \n",
       "2                  0                   0                   1   \n",
       "3                  0                   0                   1   \n",
       "4                  0                   0                   1   \n",
       "\n",
       "   fl_pagamento_ccredito  fl_pagamento_cheque_correio  \\\n",
       "0                      0                            1   \n",
       "1                      0                            1   \n",
       "2                      0                            0   \n",
       "3                      0                            0   \n",
       "4                      0                            1   \n",
       "\n",
       "   fl_pagamento_cheque_eletronico  fl_pagamento_transf_bancaria  \n",
       "0                               0                             0  \n",
       "1                               0                             0  \n",
       "2                               1                             0  \n",
       "3                               1                             0  \n",
       "4                               0                             0  \n",
       "\n",
       "[5 rows x 26 columns]"
      ]
     },
     "execution_count": 13,
     "metadata": {},
     "output_type": "execute_result"
    }
   ],
   "source": [
    "df_balanced = pd.merge(left=y_resample, right=x_resample, left_index=True, right_index=True)\n",
    "df_balanced.head()"
   ]
  },
  {
   "cell_type": "code",
   "execution_count": 14,
   "id": "c79ff53a",
   "metadata": {},
   "outputs": [
    {
     "data": {
      "text/plain": [
       "(10348, 26)"
      ]
     },
     "execution_count": 14,
     "metadata": {},
     "output_type": "execute_result"
    }
   ],
   "source": [
    "df_balanced.shape"
   ]
  },
  {
   "cell_type": "markdown",
   "id": "e4ae8587",
   "metadata": {},
   "source": [
    "Os dados aumentaram!"
   ]
  },
  {
   "cell_type": "code",
   "execution_count": 15,
   "id": "98c2f96b",
   "metadata": {},
   "outputs": [
    {
     "data": {
      "text/plain": [
       "0    5174\n",
       "1    5174\n",
       "Name: fl_inativo, dtype: int64"
      ]
     },
     "execution_count": 15,
     "metadata": {},
     "output_type": "execute_result"
    }
   ],
   "source": [
    "df_balanced.fl_inativo.value_counts()"
   ]
  },
  {
   "cell_type": "code",
   "execution_count": 16,
   "id": "87fbc9b7",
   "metadata": {},
   "outputs": [],
   "source": [
    "x = df_balanced.drop(columns='fl_inativo')\n",
    "y = df_balanced.fl_inativo"
   ]
  },
  {
   "cell_type": "markdown",
   "id": "98984292",
   "metadata": {},
   "source": [
    "### Criar dois ou mais modelos de Machine Learning"
   ]
  },
  {
   "cell_type": "markdown",
   "id": "7ae8474d",
   "metadata": {},
   "source": [
    "#### Separado base de treino e teste"
   ]
  },
  {
   "cell_type": "markdown",
   "id": "24df231c",
   "metadata": {},
   "source": [
    "[train_test_split](https://scikit-learn.org/stable/modules/generated/sklearn.model_selection.train_test_split.html)"
   ]
  },
  {
   "cell_type": "code",
   "execution_count": 17,
   "id": "dd53d321",
   "metadata": {},
   "outputs": [],
   "source": [
    "# Divisão para teste e treino\n",
    "from sklearn.model_selection import train_test_split\n",
    "\n",
    "x_train, x_test, y_train, y_test = train_test_split(x, y, test_size=0.25, random_state=SEED)"
   ]
  },
  {
   "cell_type": "markdown",
   "id": "eb1cd561",
   "metadata": {},
   "source": [
    "#### Modelo 1: Regressão Logística"
   ]
  },
  {
   "cell_type": "code",
   "execution_count": 18,
   "id": "e2a4dd90",
   "metadata": {},
   "outputs": [],
   "source": [
    "from sklearn.linear_model import LogisticRegression\n",
    "\n",
    "lr = LogisticRegression(max_iter=1000, random_state=SEED)"
   ]
  },
  {
   "cell_type": "markdown",
   "id": "676ad833",
   "metadata": {},
   "source": [
    "#### Modelo 2: Arvore de Decisão"
   ]
  },
  {
   "cell_type": "code",
   "execution_count": 19,
   "id": "2a424d92",
   "metadata": {},
   "outputs": [],
   "source": [
    "from sklearn.tree import DecisionTreeClassifier\n",
    "\n",
    "dt = DecisionTreeClassifier(max_depth=5, random_state = SEED)"
   ]
  },
  {
   "cell_type": "markdown",
   "id": "5e3bceea",
   "metadata": {},
   "source": [
    "#### Modelo 3: Random Forest"
   ]
  },
  {
   "cell_type": "code",
   "execution_count": 20,
   "id": "e4f52216",
   "metadata": {},
   "outputs": [],
   "source": [
    "from sklearn.ensemble import RandomForestClassifier\n",
    "\n",
    "rf = RandomForestClassifier(max_depth=5, random_state=SEED)"
   ]
  },
  {
   "cell_type": "markdown",
   "id": "8ac05c8b",
   "metadata": {},
   "source": [
    "#### Modelo 4: SVM"
   ]
  },
  {
   "cell_type": "code",
   "execution_count": 21,
   "id": "563b4121",
   "metadata": {},
   "outputs": [],
   "source": [
    "from sklearn.svm import SVC # Usaremos um classificador dummy\n",
    "\n",
    "svc = SVC(random_state=SEED, probability=True)"
   ]
  },
  {
   "cell_type": "markdown",
   "id": "4613c7bf",
   "metadata": {},
   "source": [
    "### Avaliar cada modelo utilizando métricas de ML"
   ]
  },
  {
   "cell_type": "markdown",
   "id": "66897a36",
   "metadata": {},
   "source": [
    "Relembrando as métricas:\n",
    "* **Acurácia/Accuracy**: avalia a proporção de acertos em relação a todas as previsões realizadas. É obtida somando a diagonal principal da matriz e dividindo pela soma de todos os valores.\n",
    "* **Sensibilidade/Revocação/Recall**: avalia a proporção de verdadeiros positivos dentre todos os valores positivos reais. É obtida dividindo os verdadeiros positivos pela soma de positivos reais.\n",
    "* **Precisão/Precision**: avalia a proporção de verdadeiros positivos dentre as predições dadas como positivas pelo modelo. É obtida dividindo os verdadeiros positivos pela soma das previsões positivas.\n",
    "* **F1 Score**: é o equilíbrio entre a sensibilidade e a precisão, sendo a média harmônica entre as duas métricas. \n",
    "\n",
    "> Desta forma, a métrica F-1 tende a avaliar melhor os modelos de classificação que apresentam bons valores de precisão e sensitividade, isto é, não apenas tendem a classificar corretamente as amostras de uma determinada classe, como também faz poucos erros para as demais classes [MAIONE, C. Balanceamento de dados com base em oversampling em dados transformados. 2020](http://repositorio.bc.ufg.br/tede/handle/tede/10943)\n",
    "\n",
    "Fonte: [Alura](https://cursos.alura.com.br/course/modelos-preditivos-dados-deteccao-fraude/task/106629)"
   ]
  },
  {
   "cell_type": "code",
   "execution_count": 22,
   "id": "daf4db5c",
   "metadata": {},
   "outputs": [],
   "source": [
    "metricas = pd.DataFrame()"
   ]
  },
  {
   "cell_type": "code",
   "execution_count": 23,
   "id": "39de87c3",
   "metadata": {},
   "outputs": [],
   "source": [
    "from sklearn import metrics\n",
    "#from sklearn.datasets import make_classification\n",
    "from sklearn.metrics import confusion_matrix\n",
    "from sklearn.metrics import ConfusionMatrixDisplay\n",
    "\n",
    "classificadores = [lr, dt, rf, svc]\n",
    "\n",
    "for idx, clf in enumerate(classificadores):\n",
    "    clf.fit(x_train, y_train)\n",
    "    y_pred = clf.predict(x_test)\n",
    "    metricas.loc[idx, 'classificador'] = clf.__class__.__name__\n",
    "    metricas.loc[idx, 'acuracia'] = metrics.accuracy_score(y_test, y_pred)\n",
    "    metricas.loc[idx, 'precisao'] = metrics.precision_score(y_test, y_pred)\n",
    "    metricas.loc[idx, 'recall'] = metrics.recall_score(y_test, y_pred)\n",
    "    metricas.loc[idx, 'f1'] = metrics.f1_score(y_test, y_pred)\n",
    "    y_pred_proba = clf.predict_proba(x_test)[::, 1]\n",
    "    metricas.loc[idx, 'auc'] = metrics.roc_auc_score(y_test, y_pred_proba)    \n",
    "    cm = confusion_matrix(y_test, y_pred)\n",
    "    metricas.loc[idx, 'matriz_confusao'] = ConfusionMatrixDisplay(confusion_matrix=cm)"
   ]
  },
  {
   "cell_type": "code",
   "execution_count": 24,
   "id": "267f8e88",
   "metadata": {},
   "outputs": [
    {
     "data": {
      "text/html": [
       "<style  type=\"text/css\" >\n",
       "</style><table id=\"T_0aef0_\" ><thead>    <tr>        <th class=\"col_heading level0 col0\" >classificador</th>        <th class=\"col_heading level0 col1\" >acuracia</th>        <th class=\"col_heading level0 col2\" >precisao</th>        <th class=\"col_heading level0 col3\" >recall</th>        <th class=\"col_heading level0 col4\" >f1</th>        <th class=\"col_heading level0 col5\" >auc</th>    </tr></thead><tbody>\n",
       "                <tr>\n",
       "                                <td id=\"T_0aef0_row0_col0\" class=\"data row0 col0\" >LogisticRegression</td>\n",
       "                        <td id=\"T_0aef0_row0_col1\" class=\"data row0 col1\" >0.837263</td>\n",
       "                        <td id=\"T_0aef0_row0_col2\" class=\"data row0 col2\" >0.837008</td>\n",
       "                        <td id=\"T_0aef0_row0_col3\" class=\"data row0 col3\" >0.832420</td>\n",
       "                        <td id=\"T_0aef0_row0_col4\" class=\"data row0 col4\" >0.834707</td>\n",
       "                        <td id=\"T_0aef0_row0_col5\" class=\"data row0 col5\" >0.925903</td>\n",
       "            </tr>\n",
       "            <tr>\n",
       "                                <td id=\"T_0aef0_row1_col0\" class=\"data row1 col0\" >DecisionTreeClassifier</td>\n",
       "                        <td id=\"T_0aef0_row1_col1\" class=\"data row1 col1\" >0.802474</td>\n",
       "                        <td id=\"T_0aef0_row1_col2\" class=\"data row1 col2\" >0.773181</td>\n",
       "                        <td id=\"T_0aef0_row1_col3\" class=\"data row1 col3\" >0.848865</td>\n",
       "                        <td id=\"T_0aef0_row1_col4\" class=\"data row1 col4\" >0.809257</td>\n",
       "                        <td id=\"T_0aef0_row1_col5\" class=\"data row1 col5\" >0.877435</td>\n",
       "            </tr>\n",
       "            <tr>\n",
       "                                <td id=\"T_0aef0_row2_col0\" class=\"data row2 col0\" >RandomForestClassifier</td>\n",
       "                        <td id=\"T_0aef0_row2_col1\" class=\"data row2 col1\" >0.814070</td>\n",
       "                        <td id=\"T_0aef0_row2_col2\" class=\"data row2 col2\" >0.779102</td>\n",
       "                        <td id=\"T_0aef0_row2_col3\" class=\"data row2 col3\" >0.870008</td>\n",
       "                        <td id=\"T_0aef0_row2_col4\" class=\"data row2 col4\" >0.822050</td>\n",
       "                        <td id=\"T_0aef0_row2_col5\" class=\"data row2 col5\" >0.884849</td>\n",
       "            </tr>\n",
       "            <tr>\n",
       "                                <td id=\"T_0aef0_row3_col0\" class=\"data row3 col0\" >SVC</td>\n",
       "                        <td id=\"T_0aef0_row3_col1\" class=\"data row3 col1\" >0.664863</td>\n",
       "                        <td id=\"T_0aef0_row3_col2\" class=\"data row3 col2\" >0.676117</td>\n",
       "                        <td id=\"T_0aef0_row3_col3\" class=\"data row3 col3\" >0.616288</td>\n",
       "                        <td id=\"T_0aef0_row3_col4\" class=\"data row3 col4\" >0.644818</td>\n",
       "                        <td id=\"T_0aef0_row3_col5\" class=\"data row3 col5\" >0.744178</td>\n",
       "            </tr>\n",
       "    </tbody></table>"
      ],
      "text/plain": [
       "<pandas.io.formats.style.Styler at 0x20706ab82b0>"
      ]
     },
     "execution_count": 24,
     "metadata": {},
     "output_type": "execute_result"
    }
   ],
   "source": [
    "metricas.drop(columns='matriz_confusao').style.hide_index()"
   ]
  },
  {
   "cell_type": "markdown",
   "id": "8e46ff53",
   "metadata": {},
   "source": [
    "Aparentemente, a regressão logística está apresentando os melhores resultados"
   ]
  },
  {
   "cell_type": "markdown",
   "id": "dbcf4fca",
   "metadata": {},
   "source": [
    "#### Avaliando Regressão Logística"
   ]
  },
  {
   "cell_type": "code",
   "execution_count": 25,
   "id": "40df9be3",
   "metadata": {},
   "outputs": [
    {
     "data": {
      "text/html": [
       "<div>\n",
       "<style scoped>\n",
       "    .dataframe tbody tr th:only-of-type {\n",
       "        vertical-align: middle;\n",
       "    }\n",
       "\n",
       "    .dataframe tbody tr th {\n",
       "        vertical-align: top;\n",
       "    }\n",
       "\n",
       "    .dataframe thead th {\n",
       "        text-align: right;\n",
       "    }\n",
       "</style>\n",
       "<table border=\"1\" class=\"dataframe\">\n",
       "  <thead>\n",
       "    <tr style=\"text-align: right;\">\n",
       "      <th></th>\n",
       "      <th>classificador</th>\n",
       "      <th>acuracia</th>\n",
       "      <th>precisao</th>\n",
       "      <th>recall</th>\n",
       "      <th>f1</th>\n",
       "      <th>auc</th>\n",
       "      <th>matriz_confusao</th>\n",
       "    </tr>\n",
       "  </thead>\n",
       "  <tbody>\n",
       "    <tr>\n",
       "      <th>0</th>\n",
       "      <td>LogisticRegression</td>\n",
       "      <td>0.837263</td>\n",
       "      <td>0.837008</td>\n",
       "      <td>0.83242</td>\n",
       "      <td>0.834707</td>\n",
       "      <td>0.925903</td>\n",
       "      <td>&lt;sklearn.metrics._plot.confusion_matrix.Confus...</td>\n",
       "    </tr>\n",
       "  </tbody>\n",
       "</table>\n",
       "</div>"
      ],
      "text/plain": [
       "        classificador  acuracia  precisao   recall        f1       auc  \\\n",
       "0  LogisticRegression  0.837263  0.837008  0.83242  0.834707  0.925903   \n",
       "\n",
       "                                     matriz_confusao  \n",
       "0  <sklearn.metrics._plot.confusion_matrix.Confus...  "
      ]
     },
     "execution_count": 25,
     "metadata": {},
     "output_type": "execute_result"
    }
   ],
   "source": [
    "metricas.query(\"classificador == 'LogisticRegression'\")"
   ]
  },
  {
   "cell_type": "code",
   "execution_count": 26,
   "id": "6b9a29de",
   "metadata": {},
   "outputs": [
    {
     "data": {
      "text/plain": [
       "<sklearn.metrics._plot.confusion_matrix.ConfusionMatrixDisplay at 0x20706ac4a00>"
      ]
     },
     "execution_count": 26,
     "metadata": {},
     "output_type": "execute_result"
    },
    {
     "data": {
      "image/png": "[encoded data removed]",
      "text/plain": [
       "<Figure size 432x288 with 2 Axes>"
      ]
     },
     "metadata": {
      "needs_background": "light"
     },
     "output_type": "display_data"
    }
   ],
   "source": [
    "import matplotlib.pyplot as plt\n",
    "%matplotlib inline\n",
    "\n",
    "metricas.loc[0, 'matriz_confusao'].plot()"
   ]
  },
  {
   "cell_type": "markdown",
   "id": "6fda0220",
   "metadata": {},
   "source": [
    "- **(0,0) Verdadeiros Negativos:** Acertou os não churn.\n",
    "- **(0,1) Falsos Positivos:** Errou os churns, marcou como churn um não churn.\n",
    "- **(1,0) Falsos Negativos:** Errou os churns, marcou como não churn um churn.\n",
    "- **(1,1) Verdadeiros Positivos:** Acertou os churns\n",
    "\n",
    "Além dos acertos, precisamos que os Falsos Negativos sem baixos! [Fonte](https://cursos.alura.com.br/course/modelos-preditivos-dados-deteccao-fraude/task/106629)\n"
   ]
  },
  {
   "cell_type": "markdown",
   "id": "450f1e0d",
   "metadata": {},
   "source": [
    "#### Avaliando Árvore de Decisão"
   ]
  },
  {
   "cell_type": "code",
   "execution_count": 27,
   "id": "ebc58475",
   "metadata": {},
   "outputs": [
    {
     "data": {
      "text/html": [
       "<div>\n",
       "<style scoped>\n",
       "    .dataframe tbody tr th:only-of-type {\n",
       "        vertical-align: middle;\n",
       "    }\n",
       "\n",
       "    .dataframe tbody tr th {\n",
       "        vertical-align: top;\n",
       "    }\n",
       "\n",
       "    .dataframe thead th {\n",
       "        text-align: right;\n",
       "    }\n",
       "</style>\n",
       "<table border=\"1\" class=\"dataframe\">\n",
       "  <thead>\n",
       "    <tr style=\"text-align: right;\">\n",
       "      <th></th>\n",
       "      <th>classificador</th>\n",
       "      <th>acuracia</th>\n",
       "      <th>precisao</th>\n",
       "      <th>recall</th>\n",
       "      <th>f1</th>\n",
       "      <th>auc</th>\n",
       "      <th>matriz_confusao</th>\n",
       "    </tr>\n",
       "  </thead>\n",
       "  <tbody>\n",
       "    <tr>\n",
       "      <th>1</th>\n",
       "      <td>DecisionTreeClassifier</td>\n",
       "      <td>0.802474</td>\n",
       "      <td>0.773181</td>\n",
       "      <td>0.848865</td>\n",
       "      <td>0.809257</td>\n",
       "      <td>0.877435</td>\n",
       "      <td>&lt;sklearn.metrics._plot.confusion_matrix.Confus...</td>\n",
       "    </tr>\n",
       "  </tbody>\n",
       "</table>\n",
       "</div>"
      ],
      "text/plain": [
       "            classificador  acuracia  precisao    recall        f1       auc  \\\n",
       "1  DecisionTreeClassifier  0.802474  0.773181  0.848865  0.809257  0.877435   \n",
       "\n",
       "                                     matriz_confusao  \n",
       "1  <sklearn.metrics._plot.confusion_matrix.Confus...  "
      ]
     },
     "execution_count": 27,
     "metadata": {},
     "output_type": "execute_result"
    }
   ],
   "source": [
    "metricas.query(\"classificador == 'DecisionTreeClassifier'\")"
   ]
  },
  {
   "cell_type": "code",
   "execution_count": 28,
   "id": "035b468d",
   "metadata": {},
   "outputs": [
    {
     "data": {
      "text/plain": [
       "<sklearn.metrics._plot.confusion_matrix.ConfusionMatrixDisplay at 0x20706ac49a0>"
      ]
     },
     "execution_count": 28,
     "metadata": {},
     "output_type": "execute_result"
    },
    {
     "data": {
      "image/png": "[encoded data removed]",
      "text/plain": [
       "<Figure size 432x288 with 2 Axes>"
      ]
     },
     "metadata": {
      "needs_background": "light"
     },
     "output_type": "display_data"
    }
   ],
   "source": [
    "metricas.loc[1, 'matriz_confusao'].plot()"
   ]
  },
  {
   "cell_type": "markdown",
   "id": "9ab18eea",
   "metadata": {},
   "source": [
    "#### Avaliando Random Forest"
   ]
  },
  {
   "cell_type": "code",
   "execution_count": 29,
   "id": "788e7a3f",
   "metadata": {},
   "outputs": [
    {
     "data": {
      "text/html": [
       "<div>\n",
       "<style scoped>\n",
       "    .dataframe tbody tr th:only-of-type {\n",
       "        vertical-align: middle;\n",
       "    }\n",
       "\n",
       "    .dataframe tbody tr th {\n",
       "        vertical-align: top;\n",
       "    }\n",
       "\n",
       "    .dataframe thead th {\n",
       "        text-align: right;\n",
       "    }\n",
       "</style>\n",
       "<table border=\"1\" class=\"dataframe\">\n",
       "  <thead>\n",
       "    <tr style=\"text-align: right;\">\n",
       "      <th></th>\n",
       "      <th>classificador</th>\n",
       "      <th>acuracia</th>\n",
       "      <th>precisao</th>\n",
       "      <th>recall</th>\n",
       "      <th>f1</th>\n",
       "      <th>auc</th>\n",
       "      <th>matriz_confusao</th>\n",
       "    </tr>\n",
       "  </thead>\n",
       "  <tbody>\n",
       "    <tr>\n",
       "      <th>2</th>\n",
       "      <td>RandomForestClassifier</td>\n",
       "      <td>0.81407</td>\n",
       "      <td>0.779102</td>\n",
       "      <td>0.870008</td>\n",
       "      <td>0.82205</td>\n",
       "      <td>0.884849</td>\n",
       "      <td>&lt;sklearn.metrics._plot.confusion_matrix.Confus...</td>\n",
       "    </tr>\n",
       "  </tbody>\n",
       "</table>\n",
       "</div>"
      ],
      "text/plain": [
       "            classificador  acuracia  precisao    recall       f1       auc  \\\n",
       "2  RandomForestClassifier   0.81407  0.779102  0.870008  0.82205  0.884849   \n",
       "\n",
       "                                     matriz_confusao  \n",
       "2  <sklearn.metrics._plot.confusion_matrix.Confus...  "
      ]
     },
     "execution_count": 29,
     "metadata": {},
     "output_type": "execute_result"
    }
   ],
   "source": [
    "metricas.query(\"classificador == 'RandomForestClassifier'\")"
   ]
  },
  {
   "cell_type": "code",
   "execution_count": 30,
   "id": "e97c9dc9",
   "metadata": {},
   "outputs": [
    {
     "data": {
      "text/plain": [
       "<sklearn.metrics._plot.confusion_matrix.ConfusionMatrixDisplay at 0x20706ac4880>"
      ]
     },
     "execution_count": 30,
     "metadata": {},
     "output_type": "execute_result"
    },
    {
     "data": {
      "image/png": "[encoded data removed]",
      "text/plain": [
       "<Figure size 432x288 with 2 Axes>"
      ]
     },
     "metadata": {
      "needs_background": "light"
     },
     "output_type": "display_data"
    }
   ],
   "source": [
    "metricas.loc[2, 'matriz_confusao'].plot()"
   ]
  },
  {
   "cell_type": "markdown",
   "id": "15e24cc4",
   "metadata": {},
   "source": [
    "#### Avaliando SVM"
   ]
  },
  {
   "cell_type": "code",
   "execution_count": 31,
   "id": "25a40b4a",
   "metadata": {},
   "outputs": [
    {
     "data": {
      "text/html": [
       "<div>\n",
       "<style scoped>\n",
       "    .dataframe tbody tr th:only-of-type {\n",
       "        vertical-align: middle;\n",
       "    }\n",
       "\n",
       "    .dataframe tbody tr th {\n",
       "        vertical-align: top;\n",
       "    }\n",
       "\n",
       "    .dataframe thead th {\n",
       "        text-align: right;\n",
       "    }\n",
       "</style>\n",
       "<table border=\"1\" class=\"dataframe\">\n",
       "  <thead>\n",
       "    <tr style=\"text-align: right;\">\n",
       "      <th></th>\n",
       "      <th>classificador</th>\n",
       "      <th>acuracia</th>\n",
       "      <th>precisao</th>\n",
       "      <th>recall</th>\n",
       "      <th>f1</th>\n",
       "      <th>auc</th>\n",
       "      <th>matriz_confusao</th>\n",
       "    </tr>\n",
       "  </thead>\n",
       "  <tbody>\n",
       "    <tr>\n",
       "      <th>3</th>\n",
       "      <td>SVC</td>\n",
       "      <td>0.664863</td>\n",
       "      <td>0.676117</td>\n",
       "      <td>0.616288</td>\n",
       "      <td>0.644818</td>\n",
       "      <td>0.744178</td>\n",
       "      <td>&lt;sklearn.metrics._plot.confusion_matrix.Confus...</td>\n",
       "    </tr>\n",
       "  </tbody>\n",
       "</table>\n",
       "</div>"
      ],
      "text/plain": [
       "  classificador  acuracia  precisao    recall        f1       auc  \\\n",
       "3           SVC  0.664863  0.676117  0.616288  0.644818  0.744178   \n",
       "\n",
       "                                     matriz_confusao  \n",
       "3  <sklearn.metrics._plot.confusion_matrix.Confus...  "
      ]
     },
     "execution_count": 31,
     "metadata": {},
     "output_type": "execute_result"
    }
   ],
   "source": [
    "metricas.query(\"classificador == 'SVC'\")"
   ]
  },
  {
   "cell_type": "code",
   "execution_count": 32,
   "id": "f44f576e",
   "metadata": {},
   "outputs": [
    {
     "data": {
      "text/plain": [
       "<sklearn.metrics._plot.confusion_matrix.ConfusionMatrixDisplay at 0x20706ac4970>"
      ]
     },
     "execution_count": 32,
     "metadata": {},
     "output_type": "execute_result"
    },
    {
     "data": {
      "image/png": "[encoded data removed]",
      "text/plain": [
       "<Figure size 432x288 with 2 Axes>"
      ]
     },
     "metadata": {
      "needs_background": "light"
     },
     "output_type": "display_data"
    }
   ],
   "source": [
    "metricas.loc[3, 'matriz_confusao'].plot()"
   ]
  },
  {
   "cell_type": "markdown",
   "id": "11d1df46",
   "metadata": {},
   "source": [
    "#### Conclusão sobre os modelos"
   ]
  },
  {
   "cell_type": "code",
   "execution_count": 33,
   "id": "138d8432",
   "metadata": {},
   "outputs": [
    {
     "data": {
      "text/html": [
       "<div>\n",
       "<style scoped>\n",
       "    .dataframe tbody tr th:only-of-type {\n",
       "        vertical-align: middle;\n",
       "    }\n",
       "\n",
       "    .dataframe tbody tr th {\n",
       "        vertical-align: top;\n",
       "    }\n",
       "\n",
       "    .dataframe thead th {\n",
       "        text-align: right;\n",
       "    }\n",
       "</style>\n",
       "<table border=\"1\" class=\"dataframe\">\n",
       "  <thead>\n",
       "    <tr style=\"text-align: right;\">\n",
       "      <th></th>\n",
       "      <th>classificador</th>\n",
       "      <th>acuracia</th>\n",
       "      <th>precisao</th>\n",
       "      <th>recall</th>\n",
       "      <th>f1</th>\n",
       "      <th>auc</th>\n",
       "      <th>matriz_confusao</th>\n",
       "    </tr>\n",
       "  </thead>\n",
       "  <tbody>\n",
       "    <tr>\n",
       "      <th>0</th>\n",
       "      <td>LogisticRegression</td>\n",
       "      <td>0.837263</td>\n",
       "      <td>0.837008</td>\n",
       "      <td>0.832420</td>\n",
       "      <td>0.834707</td>\n",
       "      <td>0.925903</td>\n",
       "      <td>&lt;sklearn.metrics._plot.confusion_matrix.Confus...</td>\n",
       "    </tr>\n",
       "    <tr>\n",
       "      <th>1</th>\n",
       "      <td>DecisionTreeClassifier</td>\n",
       "      <td>0.802474</td>\n",
       "      <td>0.773181</td>\n",
       "      <td>0.848865</td>\n",
       "      <td>0.809257</td>\n",
       "      <td>0.877435</td>\n",
       "      <td>&lt;sklearn.metrics._plot.confusion_matrix.Confus...</td>\n",
       "    </tr>\n",
       "    <tr>\n",
       "      <th>2</th>\n",
       "      <td>RandomForestClassifier</td>\n",
       "      <td>0.814070</td>\n",
       "      <td>0.779102</td>\n",
       "      <td>0.870008</td>\n",
       "      <td>0.822050</td>\n",
       "      <td>0.884849</td>\n",
       "      <td>&lt;sklearn.metrics._plot.confusion_matrix.Confus...</td>\n",
       "    </tr>\n",
       "    <tr>\n",
       "      <th>3</th>\n",
       "      <td>SVC</td>\n",
       "      <td>0.664863</td>\n",
       "      <td>0.676117</td>\n",
       "      <td>0.616288</td>\n",
       "      <td>0.644818</td>\n",
       "      <td>0.744178</td>\n",
       "      <td>&lt;sklearn.metrics._plot.confusion_matrix.Confus...</td>\n",
       "    </tr>\n",
       "  </tbody>\n",
       "</table>\n",
       "</div>"
      ],
      "text/plain": [
       "            classificador  acuracia  precisao    recall        f1       auc  \\\n",
       "0      LogisticRegression  0.837263  0.837008  0.832420  0.834707  0.925903   \n",
       "1  DecisionTreeClassifier  0.802474  0.773181  0.848865  0.809257  0.877435   \n",
       "2  RandomForestClassifier  0.814070  0.779102  0.870008  0.822050  0.884849   \n",
       "3                     SVC  0.664863  0.676117  0.616288  0.644818  0.744178   \n",
       "\n",
       "                                     matriz_confusao  \n",
       "0  <sklearn.metrics._plot.confusion_matrix.Confus...  \n",
       "1  <sklearn.metrics._plot.confusion_matrix.Confus...  \n",
       "2  <sklearn.metrics._plot.confusion_matrix.Confus...  \n",
       "3  <sklearn.metrics._plot.confusion_matrix.Confus...  "
      ]
     },
     "execution_count": 33,
     "metadata": {},
     "output_type": "execute_result"
    }
   ],
   "source": [
    "metricas"
   ]
  },
  {
   "cell_type": "markdown",
   "id": "b6d14ab4",
   "metadata": {},
   "source": [
    "### Escolher o melhor modelo"
   ]
  },
  {
   "cell_type": "markdown",
   "id": "0acf313b",
   "metadata": {},
   "source": [
    "Inicialmente o modelo LogisticRegression apresentou melhores resultados mas ainda trás um recall abaixo em relação ao RandomForestClassifier.\n",
    "\n",
    "Não tive sucesso na melhoria do LogisticRegression, dessa forma vou passar ao modelo RandomForestClassifier"
   ]
  },
  {
   "cell_type": "markdown",
   "id": "bdd5ce59",
   "metadata": {},
   "source": [
    "#### Hiperparâmetros que podem ser melhorados"
   ]
  },
  {
   "cell_type": "code",
   "execution_count": 34,
   "id": "d01e5d70",
   "metadata": {},
   "outputs": [],
   "source": [
    "n_estimators = np.arange(100, 200, step=20)\n",
    "criterion = [\"gini\", \"entropy\", 'log_loss']  \n",
    "max_features = [\"sqrt\", \"log2\", None]\n",
    "max_depth = list(np.arange(2, 10, step=2))\n",
    "min_samples_split = np.arange(2, 10, step=2)\n",
    "min_samples_leaf = [2, 4]\n",
    "bootstrap = [True, False]\n",
    "\n",
    "parameters = {\n",
    "    \"n_estimators\": n_estimators,\n",
    "    \"criterion\": criterion,\n",
    "    \"max_features\": max_features,\n",
    "    \"max_depth\": max_depth,\n",
    "    #\"min_samples_split\": min_samples_split,\n",
    "    #\"min_samples_leaf\": min_samples_leaf,\n",
    "    \"bootstrap\": bootstrap\n",
    "}"
   ]
  },
  {
   "cell_type": "code",
   "execution_count": 35,
   "id": "5c1a7941",
   "metadata": {},
   "outputs": [],
   "source": [
    "from sklearn.model_selection import GridSearchCV"
   ]
  },
  {
   "cell_type": "code",
   "execution_count": 36,
   "id": "6e3d3de2",
   "metadata": {},
   "outputs": [],
   "source": [
    "random_cv = GridSearchCV(\n",
    "    rf, parameters, cv=3, scoring=\"recall\", n_jobs=-1\n",
    ")"
   ]
  },
  {
   "cell_type": "code",
   "execution_count": 37,
   "id": "81e49eab",
   "metadata": {},
   "outputs": [
    {
     "name": "stdout",
     "output_type": "stream",
     "text": [
      "Wall time: 3min 20s\n"
     ]
    }
   ],
   "source": [
    "%%time\n",
    "rf_boost = random_cv.fit(x_train, y_train)\n",
    "\n",
    "## Alguns erros são esperados pois há dependências de parâmetros, exemplo, o solver newton-cg só funciona com o penalty l2 ou None"
   ]
  },
  {
   "cell_type": "code",
   "execution_count": 38,
   "id": "62bc26ae",
   "metadata": {},
   "outputs": [
    {
     "data": {
      "text/html": [
       "<div>\n",
       "<style scoped>\n",
       "    .dataframe tbody tr th:only-of-type {\n",
       "        vertical-align: middle;\n",
       "    }\n",
       "\n",
       "    .dataframe tbody tr th {\n",
       "        vertical-align: top;\n",
       "    }\n",
       "\n",
       "    .dataframe thead th {\n",
       "        text-align: right;\n",
       "    }\n",
       "</style>\n",
       "<table border=\"1\" class=\"dataframe\">\n",
       "  <thead>\n",
       "    <tr style=\"text-align: right;\">\n",
       "      <th></th>\n",
       "      <th>mean_fit_time</th>\n",
       "      <th>std_fit_time</th>\n",
       "      <th>mean_score_time</th>\n",
       "      <th>std_score_time</th>\n",
       "      <th>param_bootstrap</th>\n",
       "      <th>param_criterion</th>\n",
       "      <th>param_max_depth</th>\n",
       "      <th>param_max_features</th>\n",
       "      <th>param_n_estimators</th>\n",
       "      <th>params</th>\n",
       "      <th>split0_test_score</th>\n",
       "      <th>split1_test_score</th>\n",
       "      <th>split2_test_score</th>\n",
       "      <th>mean_test_score</th>\n",
       "      <th>std_test_score</th>\n",
       "      <th>rank_test_score</th>\n",
       "    </tr>\n",
       "  </thead>\n",
       "  <tbody>\n",
       "    <tr>\n",
       "      <th>0</th>\n",
       "      <td>0.222473</td>\n",
       "      <td>0.014906</td>\n",
       "      <td>0.025159</td>\n",
       "      <td>0.003289</td>\n",
       "      <td>True</td>\n",
       "      <td>gini</td>\n",
       "      <td>2</td>\n",
       "      <td>sqrt</td>\n",
       "      <td>100</td>\n",
       "      <td>{'bootstrap': True, 'criterion': 'gini', 'max_...</td>\n",
       "      <td>0.851424</td>\n",
       "      <td>0.843726</td>\n",
       "      <td>0.871440</td>\n",
       "      <td>0.855530</td>\n",
       "      <td>0.011681</td>\n",
       "      <td>305</td>\n",
       "    </tr>\n",
       "    <tr>\n",
       "      <th>1</th>\n",
       "      <td>0.245598</td>\n",
       "      <td>0.012602</td>\n",
       "      <td>0.025104</td>\n",
       "      <td>0.000823</td>\n",
       "      <td>True</td>\n",
       "      <td>gini</td>\n",
       "      <td>2</td>\n",
       "      <td>sqrt</td>\n",
       "      <td>120</td>\n",
       "      <td>{'bootstrap': True, 'criterion': 'gini', 'max_...</td>\n",
       "      <td>0.855273</td>\n",
       "      <td>0.842956</td>\n",
       "      <td>0.876059</td>\n",
       "      <td>0.858096</td>\n",
       "      <td>0.013661</td>\n",
       "      <td>295</td>\n",
       "    </tr>\n",
       "    <tr>\n",
       "      <th>2</th>\n",
       "      <td>0.265215</td>\n",
       "      <td>0.006249</td>\n",
       "      <td>0.028144</td>\n",
       "      <td>0.000790</td>\n",
       "      <td>True</td>\n",
       "      <td>gini</td>\n",
       "      <td>2</td>\n",
       "      <td>sqrt</td>\n",
       "      <td>140</td>\n",
       "      <td>{'bootstrap': True, 'criterion': 'gini', 'max_...</td>\n",
       "      <td>0.862202</td>\n",
       "      <td>0.846805</td>\n",
       "      <td>0.877598</td>\n",
       "      <td>0.862202</td>\n",
       "      <td>0.012571</td>\n",
       "      <td>279</td>\n",
       "    </tr>\n",
       "    <tr>\n",
       "      <th>3</th>\n",
       "      <td>0.310385</td>\n",
       "      <td>0.010008</td>\n",
       "      <td>0.033332</td>\n",
       "      <td>0.001290</td>\n",
       "      <td>True</td>\n",
       "      <td>gini</td>\n",
       "      <td>2</td>\n",
       "      <td>sqrt</td>\n",
       "      <td>160</td>\n",
       "      <td>{'bootstrap': True, 'criterion': 'gini', 'max_...</td>\n",
       "      <td>0.854503</td>\n",
       "      <td>0.846805</td>\n",
       "      <td>0.873749</td>\n",
       "      <td>0.858353</td>\n",
       "      <td>0.011331</td>\n",
       "      <td>294</td>\n",
       "    </tr>\n",
       "    <tr>\n",
       "      <th>4</th>\n",
       "      <td>0.332665</td>\n",
       "      <td>0.002624</td>\n",
       "      <td>0.034347</td>\n",
       "      <td>0.001193</td>\n",
       "      <td>True</td>\n",
       "      <td>gini</td>\n",
       "      <td>2</td>\n",
       "      <td>sqrt</td>\n",
       "      <td>180</td>\n",
       "      <td>{'bootstrap': True, 'criterion': 'gini', 'max_...</td>\n",
       "      <td>0.856813</td>\n",
       "      <td>0.846035</td>\n",
       "      <td>0.875289</td>\n",
       "      <td>0.859379</td>\n",
       "      <td>0.012080</td>\n",
       "      <td>293</td>\n",
       "    </tr>\n",
       "    <tr>\n",
       "      <th>...</th>\n",
       "      <td>...</td>\n",
       "      <td>...</td>\n",
       "      <td>...</td>\n",
       "      <td>...</td>\n",
       "      <td>...</td>\n",
       "      <td>...</td>\n",
       "      <td>...</td>\n",
       "      <td>...</td>\n",
       "      <td>...</td>\n",
       "      <td>...</td>\n",
       "      <td>...</td>\n",
       "      <td>...</td>\n",
       "      <td>...</td>\n",
       "      <td>...</td>\n",
       "      <td>...</td>\n",
       "      <td>...</td>\n",
       "    </tr>\n",
       "    <tr>\n",
       "      <th>355</th>\n",
       "      <td>1.637645</td>\n",
       "      <td>0.014639</td>\n",
       "      <td>0.029968</td>\n",
       "      <td>0.000076</td>\n",
       "      <td>False</td>\n",
       "      <td>log_loss</td>\n",
       "      <td>8</td>\n",
       "      <td>None</td>\n",
       "      <td>100</td>\n",
       "      <td>{'bootstrap': False, 'criterion': 'log_loss', ...</td>\n",
       "      <td>0.882987</td>\n",
       "      <td>0.869900</td>\n",
       "      <td>0.839877</td>\n",
       "      <td>0.864255</td>\n",
       "      <td>0.018047</td>\n",
       "      <td>269</td>\n",
       "    </tr>\n",
       "    <tr>\n",
       "      <th>356</th>\n",
       "      <td>1.965018</td>\n",
       "      <td>0.022865</td>\n",
       "      <td>0.034675</td>\n",
       "      <td>0.001232</td>\n",
       "      <td>False</td>\n",
       "      <td>log_loss</td>\n",
       "      <td>8</td>\n",
       "      <td>None</td>\n",
       "      <td>120</td>\n",
       "      <td>{'bootstrap': False, 'criterion': 'log_loss', ...</td>\n",
       "      <td>0.882987</td>\n",
       "      <td>0.869900</td>\n",
       "      <td>0.839877</td>\n",
       "      <td>0.864255</td>\n",
       "      <td>0.018047</td>\n",
       "      <td>269</td>\n",
       "    </tr>\n",
       "    <tr>\n",
       "      <th>357</th>\n",
       "      <td>2.279022</td>\n",
       "      <td>0.017002</td>\n",
       "      <td>0.040635</td>\n",
       "      <td>0.000524</td>\n",
       "      <td>False</td>\n",
       "      <td>log_loss</td>\n",
       "      <td>8</td>\n",
       "      <td>None</td>\n",
       "      <td>140</td>\n",
       "      <td>{'bootstrap': False, 'criterion': 'log_loss', ...</td>\n",
       "      <td>0.882217</td>\n",
       "      <td>0.869900</td>\n",
       "      <td>0.839877</td>\n",
       "      <td>0.863998</td>\n",
       "      <td>0.017782</td>\n",
       "      <td>277</td>\n",
       "    </tr>\n",
       "    <tr>\n",
       "      <th>358</th>\n",
       "      <td>2.610269</td>\n",
       "      <td>0.033570</td>\n",
       "      <td>0.045023</td>\n",
       "      <td>0.000894</td>\n",
       "      <td>False</td>\n",
       "      <td>log_loss</td>\n",
       "      <td>8</td>\n",
       "      <td>None</td>\n",
       "      <td>160</td>\n",
       "      <td>{'bootstrap': False, 'criterion': 'log_loss', ...</td>\n",
       "      <td>0.882987</td>\n",
       "      <td>0.869900</td>\n",
       "      <td>0.839877</td>\n",
       "      <td>0.864255</td>\n",
       "      <td>0.018047</td>\n",
       "      <td>269</td>\n",
       "    </tr>\n",
       "    <tr>\n",
       "      <th>359</th>\n",
       "      <td>2.918728</td>\n",
       "      <td>0.018162</td>\n",
       "      <td>0.047645</td>\n",
       "      <td>0.002128</td>\n",
       "      <td>False</td>\n",
       "      <td>log_loss</td>\n",
       "      <td>8</td>\n",
       "      <td>None</td>\n",
       "      <td>180</td>\n",
       "      <td>{'bootstrap': False, 'criterion': 'log_loss', ...</td>\n",
       "      <td>0.882987</td>\n",
       "      <td>0.869900</td>\n",
       "      <td>0.839877</td>\n",
       "      <td>0.864255</td>\n",
       "      <td>0.018047</td>\n",
       "      <td>269</td>\n",
       "    </tr>\n",
       "  </tbody>\n",
       "</table>\n",
       "<p>360 rows × 16 columns</p>\n",
       "</div>"
      ],
      "text/plain": [
       "     mean_fit_time  std_fit_time  mean_score_time  std_score_time  \\\n",
       "0         0.222473      0.014906         0.025159        0.003289   \n",
       "1         0.245598      0.012602         0.025104        0.000823   \n",
       "2         0.265215      0.006249         0.028144        0.000790   \n",
       "3         0.310385      0.010008         0.033332        0.001290   \n",
       "4         0.332665      0.002624         0.034347        0.001193   \n",
       "..             ...           ...              ...             ...   \n",
       "355       1.637645      0.014639         0.029968        0.000076   \n",
       "356       1.965018      0.022865         0.034675        0.001232   \n",
       "357       2.279022      0.017002         0.040635        0.000524   \n",
       "358       2.610269      0.033570         0.045023        0.000894   \n",
       "359       2.918728      0.018162         0.047645        0.002128   \n",
       "\n",
       "    param_bootstrap param_criterion param_max_depth param_max_features  \\\n",
       "0              True            gini               2               sqrt   \n",
       "1              True            gini               2               sqrt   \n",
       "2              True            gini               2               sqrt   \n",
       "3              True            gini               2               sqrt   \n",
       "4              True            gini               2               sqrt   \n",
       "..              ...             ...             ...                ...   \n",
       "355           False        log_loss               8               None   \n",
       "356           False        log_loss               8               None   \n",
       "357           False        log_loss               8               None   \n",
       "358           False        log_loss               8               None   \n",
       "359           False        log_loss               8               None   \n",
       "\n",
       "    param_n_estimators                                             params  \\\n",
       "0                  100  {'bootstrap': True, 'criterion': 'gini', 'max_...   \n",
       "1                  120  {'bootstrap': True, 'criterion': 'gini', 'max_...   \n",
       "2                  140  {'bootstrap': True, 'criterion': 'gini', 'max_...   \n",
       "3                  160  {'bootstrap': True, 'criterion': 'gini', 'max_...   \n",
       "4                  180  {'bootstrap': True, 'criterion': 'gini', 'max_...   \n",
       "..                 ...                                                ...   \n",
       "355                100  {'bootstrap': False, 'criterion': 'log_loss', ...   \n",
       "356                120  {'bootstrap': False, 'criterion': 'log_loss', ...   \n",
       "357                140  {'bootstrap': False, 'criterion': 'log_loss', ...   \n",
       "358                160  {'bootstrap': False, 'criterion': 'log_loss', ...   \n",
       "359                180  {'bootstrap': False, 'criterion': 'log_loss', ...   \n",
       "\n",
       "     split0_test_score  split1_test_score  split2_test_score  mean_test_score  \\\n",
       "0             0.851424           0.843726           0.871440         0.855530   \n",
       "1             0.855273           0.842956           0.876059         0.858096   \n",
       "2             0.862202           0.846805           0.877598         0.862202   \n",
       "3             0.854503           0.846805           0.873749         0.858353   \n",
       "4             0.856813           0.846035           0.875289         0.859379   \n",
       "..                 ...                ...                ...              ...   \n",
       "355           0.882987           0.869900           0.839877         0.864255   \n",
       "356           0.882987           0.869900           0.839877         0.864255   \n",
       "357           0.882217           0.869900           0.839877         0.863998   \n",
       "358           0.882987           0.869900           0.839877         0.864255   \n",
       "359           0.882987           0.869900           0.839877         0.864255   \n",
       "\n",
       "     std_test_score  rank_test_score  \n",
       "0          0.011681              305  \n",
       "1          0.013661              295  \n",
       "2          0.012571              279  \n",
       "3          0.011331              294  \n",
       "4          0.012080              293  \n",
       "..              ...              ...  \n",
       "355        0.018047              269  \n",
       "356        0.018047              269  \n",
       "357        0.017782              277  \n",
       "358        0.018047              269  \n",
       "359        0.018047              269  \n",
       "\n",
       "[360 rows x 16 columns]"
      ]
     },
     "execution_count": 38,
     "metadata": {},
     "output_type": "execute_result"
    }
   ],
   "source": [
    "pd.DataFrame(rf_boost.cv_results_)"
   ]
  },
  {
   "cell_type": "code",
   "execution_count": 39,
   "id": "96a24d75",
   "metadata": {},
   "outputs": [
    {
     "data": {
      "text/plain": [
       "{'bootstrap': True,\n",
       " 'criterion': 'entropy',\n",
       " 'max_depth': 2,\n",
       " 'max_features': None,\n",
       " 'n_estimators': 100}"
      ]
     },
     "execution_count": 39,
     "metadata": {},
     "output_type": "execute_result"
    }
   ],
   "source": [
    "rf_boost.best_params_"
   ]
  },
  {
   "cell_type": "code",
   "execution_count": 40,
   "id": "3300529d",
   "metadata": {},
   "outputs": [
    {
     "name": "stdout",
     "output_type": "stream",
     "text": [
      "Wall time: 19.3 s\n"
     ]
    }
   ],
   "source": [
    "%%time\n",
    "rf_cv = RandomForestClassifier(**rf_boost.best_params_, random_state=SEED)\n",
    "\n",
    "classificadores = [lr, dt, rf, svc, rf_cv]\n",
    "\n",
    "for idx, clf in enumerate(classificadores):\n",
    "    clf.fit(x_train, y_train)\n",
    "    y_pred = clf.predict(x_test)\n",
    "    metricas.loc[idx, 'classificador'] = clf.__class__.__name__\n",
    "    metricas.loc[idx, 'acuracia'] = metrics.accuracy_score(y_test, y_pred)\n",
    "    metricas.loc[idx, 'precisao'] = metrics.precision_score(y_test, y_pred)\n",
    "    metricas.loc[idx, 'recall'] = metrics.recall_score(y_test, y_pred)\n",
    "    metricas.loc[idx, 'f1'] = metrics.f1_score(y_test, y_pred)\n",
    "    y_pred_proba = clf.predict_proba(x_test)[::, 1]\n",
    "    metricas.loc[idx, 'auc'] = metrics.roc_auc_score(y_test, y_pred_proba)    \n",
    "    cm = confusion_matrix(y_test, y_pred)\n",
    "    metricas.loc[idx, 'matriz_confusao'] = ConfusionMatrixDisplay(confusion_matrix=cm)"
   ]
  },
  {
   "cell_type": "code",
   "execution_count": 41,
   "id": "2ce62b6a",
   "metadata": {},
   "outputs": [
    {
     "data": {
      "text/html": [
       "<div>\n",
       "<style scoped>\n",
       "    .dataframe tbody tr th:only-of-type {\n",
       "        vertical-align: middle;\n",
       "    }\n",
       "\n",
       "    .dataframe tbody tr th {\n",
       "        vertical-align: top;\n",
       "    }\n",
       "\n",
       "    .dataframe thead th {\n",
       "        text-align: right;\n",
       "    }\n",
       "</style>\n",
       "<table border=\"1\" class=\"dataframe\">\n",
       "  <thead>\n",
       "    <tr style=\"text-align: right;\">\n",
       "      <th></th>\n",
       "      <th>classificador</th>\n",
       "      <th>acuracia</th>\n",
       "      <th>precisao</th>\n",
       "      <th>recall</th>\n",
       "      <th>f1</th>\n",
       "      <th>auc</th>\n",
       "      <th>matriz_confusao</th>\n",
       "    </tr>\n",
       "  </thead>\n",
       "  <tbody>\n",
       "    <tr>\n",
       "      <th>2</th>\n",
       "      <td>RandomForestClassifier</td>\n",
       "      <td>0.81407</td>\n",
       "      <td>0.779102</td>\n",
       "      <td>0.870008</td>\n",
       "      <td>0.82205</td>\n",
       "      <td>0.884849</td>\n",
       "      <td>&lt;sklearn.metrics._plot.confusion_matrix.Confus...</td>\n",
       "    </tr>\n",
       "    <tr>\n",
       "      <th>4</th>\n",
       "      <td>RandomForestClassifier</td>\n",
       "      <td>0.75029</td>\n",
       "      <td>0.679567</td>\n",
       "      <td>0.935004</td>\n",
       "      <td>0.78708</td>\n",
       "      <td>0.816220</td>\n",
       "      <td>&lt;sklearn.metrics._plot.confusion_matrix.Confus...</td>\n",
       "    </tr>\n",
       "  </tbody>\n",
       "</table>\n",
       "</div>"
      ],
      "text/plain": [
       "            classificador  acuracia  precisao    recall       f1       auc  \\\n",
       "2  RandomForestClassifier   0.81407  0.779102  0.870008  0.82205  0.884849   \n",
       "4  RandomForestClassifier   0.75029  0.679567  0.935004  0.78708  0.816220   \n",
       "\n",
       "                                     matriz_confusao  \n",
       "2  <sklearn.metrics._plot.confusion_matrix.Confus...  \n",
       "4  <sklearn.metrics._plot.confusion_matrix.Confus...  "
      ]
     },
     "execution_count": 41,
     "metadata": {},
     "output_type": "execute_result"
    }
   ],
   "source": [
    "metricas.loc[[2, 4]]"
   ]
  },
  {
   "cell_type": "code",
   "execution_count": 42,
   "id": "c7807360",
   "metadata": {},
   "outputs": [
    {
     "data": {
      "text/plain": [
       "<sklearn.metrics._plot.confusion_matrix.ConfusionMatrixDisplay at 0x20706ab8520>"
      ]
     },
     "execution_count": 42,
     "metadata": {},
     "output_type": "execute_result"
    },
    {
     "data": {
      "image/png": "[encoded data removed]",
      "text/plain": [
       "<Figure size 432x288 with 2 Axes>"
      ]
     },
     "metadata": {
      "needs_background": "light"
     },
     "output_type": "display_data"
    }
   ],
   "source": [
    "metricas.loc[2, 'matriz_confusao'].plot()"
   ]
  },
  {
   "cell_type": "code",
   "execution_count": 43,
   "id": "e8aed966",
   "metadata": {},
   "outputs": [
    {
     "data": {
      "text/plain": [
       "<sklearn.metrics._plot.confusion_matrix.ConfusionMatrixDisplay at 0x20706ac4d60>"
      ]
     },
     "execution_count": 43,
     "metadata": {},
     "output_type": "execute_result"
    },
    {
     "data": {
      "image/png": "[encoded data removed]",
      "text/plain": [
       "<Figure size 432x288 with 2 Axes>"
      ]
     },
     "metadata": {
      "needs_background": "light"
     },
     "output_type": "display_data"
    }
   ],
   "source": [
    "metricas.loc[4, 'matriz_confusao'].plot()"
   ]
  },
  {
   "cell_type": "markdown",
   "id": "39fd2cab",
   "metadata": {},
   "source": [
    "### Analisando o novo modelo"
   ]
  },
  {
   "cell_type": "markdown",
   "id": "3b27a2f9",
   "metadata": {},
   "source": [
    "Apesar de as métricas terem **apenas** melhorado na acurácia proposta (recall), vejo que o modelo está aceitável pois teve uma melhora na definição dos **Verdadeiros Positivos** (marcação de churn em quem é churn), uma grande melhora (100% relativamente) na identificação dos **Falso Negativo** (marcação de não churn em quem é churn), uma queda no **Falso Positivo** mas que na verdade se desloca para o **Falso Negativo**.\n",
    "\n",
    "Inicialmente não vejo esse deslocamento ruim ao processo. Significa que, ao invés de cravar que o cliente não será churn eu vou dizer que ele será (mesmo não sendo)."
   ]
  },
  {
   "cell_type": "markdown",
   "id": "92715a8c",
   "metadata": {},
   "source": [
    "### Testando o novo modelo"
   ]
  },
  {
   "cell_type": "markdown",
   "id": "63959644",
   "metadata": {},
   "source": [
    "No ínicio do processe de limpeza de dados, haviam registros em que a flag de churn estava vazia. Vamos aproveitar o modelo e classificar estes clientes"
   ]
  },
  {
   "cell_type": "code",
   "execution_count": 44,
   "id": "8e97c388",
   "metadata": {},
   "outputs": [
    {
     "data": {
      "text/html": [
       "<div>\n",
       "<style scoped>\n",
       "    .dataframe tbody tr th:only-of-type {\n",
       "        vertical-align: middle;\n",
       "    }\n",
       "\n",
       "    .dataframe tbody tr th {\n",
       "        vertical-align: top;\n",
       "    }\n",
       "\n",
       "    .dataframe thead th {\n",
       "        text-align: right;\n",
       "    }\n",
       "</style>\n",
       "<table border=\"1\" class=\"dataframe\">\n",
       "  <thead>\n",
       "    <tr style=\"text-align: right;\">\n",
       "      <th></th>\n",
       "      <th>id_cliente</th>\n",
       "      <th>fl_inativo</th>\n",
       "      <th>sexo</th>\n",
       "      <th>fl_maior_65_anos</th>\n",
       "      <th>fl_tem_parceiro</th>\n",
       "      <th>fl_dependentes</th>\n",
       "      <th>meses_contrato</th>\n",
       "      <th>fl_servico_telefonico</th>\n",
       "      <th>fl_multiplas_linhas</th>\n",
       "      <th>tipo_servico_internet</th>\n",
       "      <th>...</th>\n",
       "      <th>fl_servico_protecao_dispositivo</th>\n",
       "      <th>fl_servico_suporte_tech</th>\n",
       "      <th>fl_servico_tv_cabo</th>\n",
       "      <th>fl_servico_stream</th>\n",
       "      <th>tipo_contrato</th>\n",
       "      <th>fl_sem_papel</th>\n",
       "      <th>valor_servico_diario</th>\n",
       "      <th>tipo_pagamento</th>\n",
       "      <th>valor_servico_mensal</th>\n",
       "      <th>valor_servico_total</th>\n",
       "    </tr>\n",
       "  </thead>\n",
       "  <tbody>\n",
       "    <tr>\n",
       "      <th>0</th>\n",
       "      <td>0002-ORFBO</td>\n",
       "      <td>Não</td>\n",
       "      <td>Feminino</td>\n",
       "      <td>Não</td>\n",
       "      <td>Sim</td>\n",
       "      <td>Sim</td>\n",
       "      <td>9</td>\n",
       "      <td>Sim</td>\n",
       "      <td>Não</td>\n",
       "      <td>DSL</td>\n",
       "      <td>...</td>\n",
       "      <td>Não</td>\n",
       "      <td>Sim</td>\n",
       "      <td>Sim</td>\n",
       "      <td>Não</td>\n",
       "      <td>Anual</td>\n",
       "      <td>Sim</td>\n",
       "      <td>2.19</td>\n",
       "      <td>Cheque (Correios)</td>\n",
       "      <td>65.6</td>\n",
       "      <td>593.30</td>\n",
       "    </tr>\n",
       "    <tr>\n",
       "      <th>1</th>\n",
       "      <td>0003-MKNFE</td>\n",
       "      <td>Não</td>\n",
       "      <td>Masculino</td>\n",
       "      <td>Não</td>\n",
       "      <td>Não</td>\n",
       "      <td>Não</td>\n",
       "      <td>9</td>\n",
       "      <td>Sim</td>\n",
       "      <td>Sim</td>\n",
       "      <td>DSL</td>\n",
       "      <td>...</td>\n",
       "      <td>Não</td>\n",
       "      <td>Não</td>\n",
       "      <td>Não</td>\n",
       "      <td>Sim</td>\n",
       "      <td>Mensal</td>\n",
       "      <td>Não</td>\n",
       "      <td>2.00</td>\n",
       "      <td>Cheque (Correios)</td>\n",
       "      <td>59.9</td>\n",
       "      <td>542.40</td>\n",
       "    </tr>\n",
       "    <tr>\n",
       "      <th>2</th>\n",
       "      <td>0004-TLHLJ</td>\n",
       "      <td>Sim</td>\n",
       "      <td>Masculino</td>\n",
       "      <td>Não</td>\n",
       "      <td>Não</td>\n",
       "      <td>Não</td>\n",
       "      <td>4</td>\n",
       "      <td>Sim</td>\n",
       "      <td>Não</td>\n",
       "      <td>Fibra ótica</td>\n",
       "      <td>...</td>\n",
       "      <td>Sim</td>\n",
       "      <td>Não</td>\n",
       "      <td>Não</td>\n",
       "      <td>Não</td>\n",
       "      <td>Mensal</td>\n",
       "      <td>Sim</td>\n",
       "      <td>2.46</td>\n",
       "      <td>Cheque (Eletrônico)</td>\n",
       "      <td>73.9</td>\n",
       "      <td>280.85</td>\n",
       "    </tr>\n",
       "    <tr>\n",
       "      <th>3</th>\n",
       "      <td>0011-IGKFF</td>\n",
       "      <td>Sim</td>\n",
       "      <td>Masculino</td>\n",
       "      <td>Sim</td>\n",
       "      <td>Sim</td>\n",
       "      <td>Não</td>\n",
       "      <td>13</td>\n",
       "      <td>Sim</td>\n",
       "      <td>Não</td>\n",
       "      <td>Fibra ótica</td>\n",
       "      <td>...</td>\n",
       "      <td>Sim</td>\n",
       "      <td>Não</td>\n",
       "      <td>Sim</td>\n",
       "      <td>Sim</td>\n",
       "      <td>Mensal</td>\n",
       "      <td>Sim</td>\n",
       "      <td>3.27</td>\n",
       "      <td>Cheque (Eletrônico)</td>\n",
       "      <td>98.0</td>\n",
       "      <td>1237.85</td>\n",
       "    </tr>\n",
       "    <tr>\n",
       "      <th>4</th>\n",
       "      <td>0013-EXCHZ</td>\n",
       "      <td>Sim</td>\n",
       "      <td>Feminino</td>\n",
       "      <td>Sim</td>\n",
       "      <td>Sim</td>\n",
       "      <td>Não</td>\n",
       "      <td>3</td>\n",
       "      <td>Sim</td>\n",
       "      <td>Não</td>\n",
       "      <td>Fibra ótica</td>\n",
       "      <td>...</td>\n",
       "      <td>Não</td>\n",
       "      <td>Sim</td>\n",
       "      <td>Sim</td>\n",
       "      <td>Não</td>\n",
       "      <td>Mensal</td>\n",
       "      <td>Sim</td>\n",
       "      <td>2.80</td>\n",
       "      <td>Cheque (Correios)</td>\n",
       "      <td>83.9</td>\n",
       "      <td>267.40</td>\n",
       "    </tr>\n",
       "  </tbody>\n",
       "</table>\n",
       "<p>5 rows × 22 columns</p>\n",
       "</div>"
      ],
      "text/plain": [
       "   id_cliente fl_inativo       sexo fl_maior_65_anos fl_tem_parceiro  \\\n",
       "0  0002-ORFBO        Não   Feminino              Não             Sim   \n",
       "1  0003-MKNFE        Não  Masculino              Não             Não   \n",
       "2  0004-TLHLJ        Sim  Masculino              Não             Não   \n",
       "3  0011-IGKFF        Sim  Masculino              Sim             Sim   \n",
       "4  0013-EXCHZ        Sim   Feminino              Sim             Sim   \n",
       "\n",
       "  fl_dependentes  meses_contrato fl_servico_telefonico fl_multiplas_linhas  \\\n",
       "0            Sim               9                   Sim                 Não   \n",
       "1            Não               9                   Sim                 Sim   \n",
       "2            Não               4                   Sim                 Não   \n",
       "3            Não              13                   Sim                 Não   \n",
       "4            Não               3                   Sim                 Não   \n",
       "\n",
       "  tipo_servico_internet  ... fl_servico_protecao_dispositivo  \\\n",
       "0                   DSL  ...                             Não   \n",
       "1                   DSL  ...                             Não   \n",
       "2           Fibra ótica  ...                             Sim   \n",
       "3           Fibra ótica  ...                             Sim   \n",
       "4           Fibra ótica  ...                             Não   \n",
       "\n",
       "  fl_servico_suporte_tech fl_servico_tv_cabo fl_servico_stream tipo_contrato  \\\n",
       "0                     Sim                Sim               Não         Anual   \n",
       "1                     Não                Não               Sim        Mensal   \n",
       "2                     Não                Não               Não        Mensal   \n",
       "3                     Não                Sim               Sim        Mensal   \n",
       "4                     Sim                Sim               Não        Mensal   \n",
       "\n",
       "  fl_sem_papel valor_servico_diario       tipo_pagamento  \\\n",
       "0          Sim                 2.19    Cheque (Correios)   \n",
       "1          Não                 2.00    Cheque (Correios)   \n",
       "2          Sim                 2.46  Cheque (Eletrônico)   \n",
       "3          Sim                 3.27  Cheque (Eletrônico)   \n",
       "4          Sim                 2.80    Cheque (Correios)   \n",
       "\n",
       "   valor_servico_mensal valor_servico_total  \n",
       "0                  65.6              593.30  \n",
       "1                  59.9              542.40  \n",
       "2                  73.9              280.85  \n",
       "3                  98.0             1237.85  \n",
       "4                  83.9              267.40  \n",
       "\n",
       "[5 rows x 22 columns]"
      ]
     },
     "execution_count": 44,
     "metadata": {},
     "output_type": "execute_result"
    }
   ],
   "source": [
    "dados_pred = pd.read_json('../Dados/dados_tratados.json')\n",
    "dados_pred.head()"
   ]
  },
  {
   "cell_type": "code",
   "execution_count": 45,
   "id": "82437f52",
   "metadata": {},
   "outputs": [
    {
     "data": {
      "text/plain": [
       "224"
      ]
     },
     "execution_count": 45,
     "metadata": {},
     "output_type": "execute_result"
    }
   ],
   "source": [
    "dados_pred.fl_inativo.isnull().sum()"
   ]
  },
  {
   "cell_type": "code",
   "execution_count": 46,
   "id": "f1d4b147",
   "metadata": {},
   "outputs": [
    {
     "data": {
      "text/html": [
       "<div>\n",
       "<style scoped>\n",
       "    .dataframe tbody tr th:only-of-type {\n",
       "        vertical-align: middle;\n",
       "    }\n",
       "\n",
       "    .dataframe tbody tr th {\n",
       "        vertical-align: top;\n",
       "    }\n",
       "\n",
       "    .dataframe thead th {\n",
       "        text-align: right;\n",
       "    }\n",
       "</style>\n",
       "<table border=\"1\" class=\"dataframe\">\n",
       "  <thead>\n",
       "    <tr style=\"text-align: right;\">\n",
       "      <th></th>\n",
       "      <th>id_cliente</th>\n",
       "      <th>fl_inativo</th>\n",
       "      <th>sexo</th>\n",
       "      <th>fl_maior_65_anos</th>\n",
       "      <th>fl_tem_parceiro</th>\n",
       "      <th>fl_dependentes</th>\n",
       "      <th>meses_contrato</th>\n",
       "      <th>fl_servico_telefonico</th>\n",
       "      <th>fl_multiplas_linhas</th>\n",
       "      <th>tipo_servico_internet</th>\n",
       "      <th>...</th>\n",
       "      <th>fl_servico_protecao_dispositivo</th>\n",
       "      <th>fl_servico_suporte_tech</th>\n",
       "      <th>fl_servico_tv_cabo</th>\n",
       "      <th>fl_servico_stream</th>\n",
       "      <th>tipo_contrato</th>\n",
       "      <th>fl_sem_papel</th>\n",
       "      <th>valor_servico_diario</th>\n",
       "      <th>tipo_pagamento</th>\n",
       "      <th>valor_servico_mensal</th>\n",
       "      <th>valor_servico_total</th>\n",
       "    </tr>\n",
       "  </thead>\n",
       "  <tbody>\n",
       "    <tr>\n",
       "      <th>30</th>\n",
       "      <td>0047-ZHDTW</td>\n",
       "      <td>None</td>\n",
       "      <td>Feminino</td>\n",
       "      <td>Não</td>\n",
       "      <td>Não</td>\n",
       "      <td>Não</td>\n",
       "      <td>11</td>\n",
       "      <td>Sim</td>\n",
       "      <td>Sim</td>\n",
       "      <td>Fibra ótica</td>\n",
       "      <td>...</td>\n",
       "      <td>Não</td>\n",
       "      <td>Não</td>\n",
       "      <td>Não</td>\n",
       "      <td>Não</td>\n",
       "      <td>Mensal</td>\n",
       "      <td>Sim</td>\n",
       "      <td>2.63</td>\n",
       "      <td>Transferência Bancária</td>\n",
       "      <td>79.00</td>\n",
       "      <td>929.30</td>\n",
       "    </tr>\n",
       "    <tr>\n",
       "      <th>75</th>\n",
       "      <td>0120-YZLQA</td>\n",
       "      <td>None</td>\n",
       "      <td>Masculino</td>\n",
       "      <td>Não</td>\n",
       "      <td>Não</td>\n",
       "      <td>Não</td>\n",
       "      <td>71</td>\n",
       "      <td>Sim</td>\n",
       "      <td>Não</td>\n",
       "      <td>Nenhum</td>\n",
       "      <td>...</td>\n",
       "      <td>Não</td>\n",
       "      <td>Não</td>\n",
       "      <td>Não</td>\n",
       "      <td>Não</td>\n",
       "      <td>Bienal</td>\n",
       "      <td>Sim</td>\n",
       "      <td>0.66</td>\n",
       "      <td>Cartão de Crédito</td>\n",
       "      <td>19.90</td>\n",
       "      <td>1355.10</td>\n",
       "    </tr>\n",
       "    <tr>\n",
       "      <th>96</th>\n",
       "      <td>0154-QYHJU</td>\n",
       "      <td>None</td>\n",
       "      <td>Masculino</td>\n",
       "      <td>Não</td>\n",
       "      <td>Não</td>\n",
       "      <td>Não</td>\n",
       "      <td>29</td>\n",
       "      <td>Sim</td>\n",
       "      <td>Não</td>\n",
       "      <td>DSL</td>\n",
       "      <td>...</td>\n",
       "      <td>Não</td>\n",
       "      <td>Sim</td>\n",
       "      <td>Não</td>\n",
       "      <td>Não</td>\n",
       "      <td>Anual</td>\n",
       "      <td>Sim</td>\n",
       "      <td>1.96</td>\n",
       "      <td>Cheque (Eletrônico)</td>\n",
       "      <td>58.75</td>\n",
       "      <td>1696.20</td>\n",
       "    </tr>\n",
       "    <tr>\n",
       "      <th>98</th>\n",
       "      <td>0162-RZGMZ</td>\n",
       "      <td>None</td>\n",
       "      <td>Feminino</td>\n",
       "      <td>Sim</td>\n",
       "      <td>Não</td>\n",
       "      <td>Não</td>\n",
       "      <td>5</td>\n",
       "      <td>Sim</td>\n",
       "      <td>Não</td>\n",
       "      <td>DSL</td>\n",
       "      <td>...</td>\n",
       "      <td>Não</td>\n",
       "      <td>Sim</td>\n",
       "      <td>Não</td>\n",
       "      <td>Não</td>\n",
       "      <td>Mensal</td>\n",
       "      <td>Não</td>\n",
       "      <td>2.00</td>\n",
       "      <td>Cartão de Crédito</td>\n",
       "      <td>59.90</td>\n",
       "      <td>287.85</td>\n",
       "    </tr>\n",
       "    <tr>\n",
       "      <th>175</th>\n",
       "      <td>0274-VVQOQ</td>\n",
       "      <td>None</td>\n",
       "      <td>Masculino</td>\n",
       "      <td>Sim</td>\n",
       "      <td>Sim</td>\n",
       "      <td>Não</td>\n",
       "      <td>65</td>\n",
       "      <td>Sim</td>\n",
       "      <td>Sim</td>\n",
       "      <td>Fibra ótica</td>\n",
       "      <td>...</td>\n",
       "      <td>Sim</td>\n",
       "      <td>Não</td>\n",
       "      <td>Sim</td>\n",
       "      <td>Sim</td>\n",
       "      <td>Anual</td>\n",
       "      <td>Sim</td>\n",
       "      <td>3.44</td>\n",
       "      <td>Transferência Bancária</td>\n",
       "      <td>103.15</td>\n",
       "      <td>6792.45</td>\n",
       "    </tr>\n",
       "  </tbody>\n",
       "</table>\n",
       "<p>5 rows × 22 columns</p>\n",
       "</div>"
      ],
      "text/plain": [
       "     id_cliente fl_inativo       sexo fl_maior_65_anos fl_tem_parceiro  \\\n",
       "30   0047-ZHDTW       None   Feminino              Não             Não   \n",
       "75   0120-YZLQA       None  Masculino              Não             Não   \n",
       "96   0154-QYHJU       None  Masculino              Não             Não   \n",
       "98   0162-RZGMZ       None   Feminino              Sim             Não   \n",
       "175  0274-VVQOQ       None  Masculino              Sim             Sim   \n",
       "\n",
       "    fl_dependentes  meses_contrato fl_servico_telefonico fl_multiplas_linhas  \\\n",
       "30             Não              11                   Sim                 Sim   \n",
       "75             Não              71                   Sim                 Não   \n",
       "96             Não              29                   Sim                 Não   \n",
       "98             Não               5                   Sim                 Não   \n",
       "175            Não              65                   Sim                 Sim   \n",
       "\n",
       "    tipo_servico_internet  ... fl_servico_protecao_dispositivo  \\\n",
       "30            Fibra ótica  ...                             Não   \n",
       "75                 Nenhum  ...                             Não   \n",
       "96                    DSL  ...                             Não   \n",
       "98                    DSL  ...                             Não   \n",
       "175           Fibra ótica  ...                             Sim   \n",
       "\n",
       "    fl_servico_suporte_tech fl_servico_tv_cabo fl_servico_stream  \\\n",
       "30                      Não                Não               Não   \n",
       "75                      Não                Não               Não   \n",
       "96                      Sim                Não               Não   \n",
       "98                      Sim                Não               Não   \n",
       "175                     Não                Sim               Sim   \n",
       "\n",
       "    tipo_contrato fl_sem_papel valor_servico_diario          tipo_pagamento  \\\n",
       "30         Mensal          Sim                 2.63  Transferência Bancária   \n",
       "75         Bienal          Sim                 0.66       Cartão de Crédito   \n",
       "96          Anual          Sim                 1.96     Cheque (Eletrônico)   \n",
       "98         Mensal          Não                 2.00       Cartão de Crédito   \n",
       "175         Anual          Sim                 3.44  Transferência Bancária   \n",
       "\n",
       "     valor_servico_mensal valor_servico_total  \n",
       "30                  79.00              929.30  \n",
       "75                  19.90             1355.10  \n",
       "96                  58.75             1696.20  \n",
       "98                  59.90              287.85  \n",
       "175                103.15             6792.45  \n",
       "\n",
       "[5 rows x 22 columns]"
      ]
     },
     "execution_count": 46,
     "metadata": {},
     "output_type": "execute_result"
    }
   ],
   "source": [
    "dados_pred = dados_pred[dados_pred.fl_inativo.isnull()]\n",
    "dados_pred.head()"
   ]
  },
  {
   "cell_type": "markdown",
   "id": "0e76202c",
   "metadata": {},
   "source": [
    "Vou precisar fazer o mesmo tratamento que fiz nas bases"
   ]
  },
  {
   "cell_type": "markdown",
   "id": "c8726f39",
   "metadata": {},
   "source": [
    "#### Tradução dos dados"
   ]
  },
  {
   "cell_type": "code",
   "execution_count": 47,
   "id": "44e4c8e7",
   "metadata": {},
   "outputs": [
    {
     "data": {
      "text/html": [
       "<div>\n",
       "<style scoped>\n",
       "    .dataframe tbody tr th:only-of-type {\n",
       "        vertical-align: middle;\n",
       "    }\n",
       "\n",
       "    .dataframe tbody tr th {\n",
       "        vertical-align: top;\n",
       "    }\n",
       "\n",
       "    .dataframe thead th {\n",
       "        text-align: right;\n",
       "    }\n",
       "</style>\n",
       "<table border=\"1\" class=\"dataframe\">\n",
       "  <thead>\n",
       "    <tr style=\"text-align: right;\">\n",
       "      <th></th>\n",
       "      <th>id_cliente</th>\n",
       "      <th>fl_inativo</th>\n",
       "      <th>sexo</th>\n",
       "      <th>fl_maior_65_anos</th>\n",
       "      <th>fl_tem_parceiro</th>\n",
       "      <th>fl_dependentes</th>\n",
       "      <th>meses_contrato</th>\n",
       "      <th>fl_servico_telefonico</th>\n",
       "      <th>fl_multiplas_linhas</th>\n",
       "      <th>tipo_servico_internet</th>\n",
       "      <th>...</th>\n",
       "      <th>fl_servico_protecao_dispositivo</th>\n",
       "      <th>fl_servico_suporte_tech</th>\n",
       "      <th>fl_servico_tv_cabo</th>\n",
       "      <th>fl_servico_stream</th>\n",
       "      <th>tipo_contrato</th>\n",
       "      <th>fl_sem_papel</th>\n",
       "      <th>valor_servico_diario</th>\n",
       "      <th>tipo_pagamento</th>\n",
       "      <th>valor_servico_mensal</th>\n",
       "      <th>valor_servico_total</th>\n",
       "    </tr>\n",
       "  </thead>\n",
       "  <tbody>\n",
       "    <tr>\n",
       "      <th>30</th>\n",
       "      <td>0047-ZHDTW</td>\n",
       "      <td>None</td>\n",
       "      <td>Feminino</td>\n",
       "      <td>0</td>\n",
       "      <td>0</td>\n",
       "      <td>0</td>\n",
       "      <td>11</td>\n",
       "      <td>1</td>\n",
       "      <td>1</td>\n",
       "      <td>Fibra ótica</td>\n",
       "      <td>...</td>\n",
       "      <td>0</td>\n",
       "      <td>0</td>\n",
       "      <td>0</td>\n",
       "      <td>0</td>\n",
       "      <td>Mensal</td>\n",
       "      <td>1</td>\n",
       "      <td>2.63</td>\n",
       "      <td>Transferência Bancária</td>\n",
       "      <td>79.00</td>\n",
       "      <td>929.30</td>\n",
       "    </tr>\n",
       "    <tr>\n",
       "      <th>75</th>\n",
       "      <td>0120-YZLQA</td>\n",
       "      <td>None</td>\n",
       "      <td>Masculino</td>\n",
       "      <td>0</td>\n",
       "      <td>0</td>\n",
       "      <td>0</td>\n",
       "      <td>71</td>\n",
       "      <td>1</td>\n",
       "      <td>0</td>\n",
       "      <td>Nenhum</td>\n",
       "      <td>...</td>\n",
       "      <td>0</td>\n",
       "      <td>0</td>\n",
       "      <td>0</td>\n",
       "      <td>0</td>\n",
       "      <td>Bienal</td>\n",
       "      <td>1</td>\n",
       "      <td>0.66</td>\n",
       "      <td>Cartão de Crédito</td>\n",
       "      <td>19.90</td>\n",
       "      <td>1355.10</td>\n",
       "    </tr>\n",
       "    <tr>\n",
       "      <th>96</th>\n",
       "      <td>0154-QYHJU</td>\n",
       "      <td>None</td>\n",
       "      <td>Masculino</td>\n",
       "      <td>0</td>\n",
       "      <td>0</td>\n",
       "      <td>0</td>\n",
       "      <td>29</td>\n",
       "      <td>1</td>\n",
       "      <td>0</td>\n",
       "      <td>DSL</td>\n",
       "      <td>...</td>\n",
       "      <td>0</td>\n",
       "      <td>1</td>\n",
       "      <td>0</td>\n",
       "      <td>0</td>\n",
       "      <td>Anual</td>\n",
       "      <td>1</td>\n",
       "      <td>1.96</td>\n",
       "      <td>Cheque (Eletrônico)</td>\n",
       "      <td>58.75</td>\n",
       "      <td>1696.20</td>\n",
       "    </tr>\n",
       "    <tr>\n",
       "      <th>98</th>\n",
       "      <td>0162-RZGMZ</td>\n",
       "      <td>None</td>\n",
       "      <td>Feminino</td>\n",
       "      <td>1</td>\n",
       "      <td>0</td>\n",
       "      <td>0</td>\n",
       "      <td>5</td>\n",
       "      <td>1</td>\n",
       "      <td>0</td>\n",
       "      <td>DSL</td>\n",
       "      <td>...</td>\n",
       "      <td>0</td>\n",
       "      <td>1</td>\n",
       "      <td>0</td>\n",
       "      <td>0</td>\n",
       "      <td>Mensal</td>\n",
       "      <td>0</td>\n",
       "      <td>2.00</td>\n",
       "      <td>Cartão de Crédito</td>\n",
       "      <td>59.90</td>\n",
       "      <td>287.85</td>\n",
       "    </tr>\n",
       "    <tr>\n",
       "      <th>175</th>\n",
       "      <td>0274-VVQOQ</td>\n",
       "      <td>None</td>\n",
       "      <td>Masculino</td>\n",
       "      <td>1</td>\n",
       "      <td>1</td>\n",
       "      <td>0</td>\n",
       "      <td>65</td>\n",
       "      <td>1</td>\n",
       "      <td>1</td>\n",
       "      <td>Fibra ótica</td>\n",
       "      <td>...</td>\n",
       "      <td>1</td>\n",
       "      <td>0</td>\n",
       "      <td>1</td>\n",
       "      <td>1</td>\n",
       "      <td>Anual</td>\n",
       "      <td>1</td>\n",
       "      <td>3.44</td>\n",
       "      <td>Transferência Bancária</td>\n",
       "      <td>103.15</td>\n",
       "      <td>6792.45</td>\n",
       "    </tr>\n",
       "  </tbody>\n",
       "</table>\n",
       "<p>5 rows × 22 columns</p>\n",
       "</div>"
      ],
      "text/plain": [
       "     id_cliente fl_inativo       sexo  fl_maior_65_anos  fl_tem_parceiro  \\\n",
       "30   0047-ZHDTW       None   Feminino                 0                0   \n",
       "75   0120-YZLQA       None  Masculino                 0                0   \n",
       "96   0154-QYHJU       None  Masculino                 0                0   \n",
       "98   0162-RZGMZ       None   Feminino                 1                0   \n",
       "175  0274-VVQOQ       None  Masculino                 1                1   \n",
       "\n",
       "     fl_dependentes  meses_contrato  fl_servico_telefonico  \\\n",
       "30                0              11                      1   \n",
       "75                0              71                      1   \n",
       "96                0              29                      1   \n",
       "98                0               5                      1   \n",
       "175               0              65                      1   \n",
       "\n",
       "     fl_multiplas_linhas tipo_servico_internet  ...  \\\n",
       "30                     1           Fibra ótica  ...   \n",
       "75                     0                Nenhum  ...   \n",
       "96                     0                   DSL  ...   \n",
       "98                     0                   DSL  ...   \n",
       "175                    1           Fibra ótica  ...   \n",
       "\n",
       "     fl_servico_protecao_dispositivo  fl_servico_suporte_tech  \\\n",
       "30                                 0                        0   \n",
       "75                                 0                        0   \n",
       "96                                 0                        1   \n",
       "98                                 0                        1   \n",
       "175                                1                        0   \n",
       "\n",
       "     fl_servico_tv_cabo  fl_servico_stream  tipo_contrato  fl_sem_papel  \\\n",
       "30                    0                  0         Mensal             1   \n",
       "75                    0                  0         Bienal             1   \n",
       "96                    0                  0          Anual             1   \n",
       "98                    0                  0         Mensal             0   \n",
       "175                   1                  1          Anual             1   \n",
       "\n",
       "    valor_servico_diario          tipo_pagamento  valor_servico_mensal  \\\n",
       "30                  2.63  Transferência Bancária                 79.00   \n",
       "75                  0.66       Cartão de Crédito                 19.90   \n",
       "96                  1.96     Cheque (Eletrônico)                 58.75   \n",
       "98                  2.00       Cartão de Crédito                 59.90   \n",
       "175                 3.44  Transferência Bancária                103.15   \n",
       "\n",
       "    valor_servico_total  \n",
       "30               929.30  \n",
       "75              1355.10  \n",
       "96              1696.20  \n",
       "98               287.85  \n",
       "175             6792.45  \n",
       "\n",
       "[5 rows x 22 columns]"
      ]
     },
     "execution_count": 47,
     "metadata": {},
     "output_type": "execute_result"
    }
   ],
   "source": [
    "sim_nao = {'Sim': 1, 'Não': 0}\n",
    "colunas = dados_pred.filter(like='fl_').columns\n",
    "for coluna in colunas:\n",
    "    dados_pred[coluna].replace(sim_nao, inplace=True)\n",
    "dados_pred.head()"
   ]
  },
  {
   "cell_type": "markdown",
   "id": "eaef8420",
   "metadata": {},
   "source": [
    "#### Separação das colunas (Encoder)"
   ]
  },
  {
   "cell_type": "code",
   "execution_count": 48,
   "id": "665a0c64",
   "metadata": {},
   "outputs": [],
   "source": [
    "dados_pred = pd.get_dummies(data=dados_pred, columns=['tipo_servico_internet', 'tipo_contrato', 'tipo_pagamento'])"
   ]
  },
  {
   "cell_type": "code",
   "execution_count": 49,
   "id": "1d5d3965",
   "metadata": {},
   "outputs": [],
   "source": [
    "colunas_nome = {\n",
    "    'tipo_servico_internet_DSL': 'fl_servico_internet_dsl', \n",
    "    'tipo_servico_internet_Fibra ótica': 'fl_servico_internet_fibra_otica',\n",
    "    'tipo_servico_internet_Nenhum': 'fl_sem_servico_internet', \n",
    "    'tipo_contrato_Anual': 'fl_contrato_anual',\n",
    "    'tipo_contrato_Bienal': 'fl_contrato_bienal', \n",
    "    'tipo_contrato_Mensal': 'fl_contrato_mensal',\n",
    "    'tipo_pagamento_Cartão de Crédito': 'fl_pagamento_ccredito',\n",
    "    'tipo_pagamento_Cheque (Correios)': 'fl_pagamento_cheque_correio',\n",
    "    'tipo_pagamento_Cheque (Eletrônico)': 'fl_pagamento_cheque_eletronico',\n",
    "    'tipo_pagamento_Transferência Bancária': 'fl_pagamento_transf_bancaria'\n",
    "}\n",
    "dados_pred.rename(columns=colunas_nome, inplace=True)"
   ]
  },
  {
   "cell_type": "code",
   "execution_count": 50,
   "id": "bdd27c89",
   "metadata": {},
   "outputs": [],
   "source": [
    "x_avaliar = dados_pred.drop(columns=['id_cliente', 'sexo', 'valor_servico_diario', 'fl_inativo'])"
   ]
  },
  {
   "cell_type": "code",
   "execution_count": 51,
   "id": "182e861d",
   "metadata": {},
   "outputs": [],
   "source": [
    "y_avaliar = rf_cv.predict(x_avaliar)"
   ]
  },
  {
   "cell_type": "code",
   "execution_count": 65,
   "id": "9d7c18c9",
   "metadata": {},
   "outputs": [
    {
     "data": {
      "text/plain": [
       "[Text(0, 0, '94'), Text(0, 0, '130')]"
      ]
     },
     "execution_count": 65,
     "metadata": {},
     "output_type": "execute_result"
    },
    {
     "data": {
      "image/png": "[encoded data removed]",
      "text/plain": [
       "<Figure size 432x288 with 1 Axes>"
      ]
     },
     "metadata": {
      "needs_background": "light"
     },
     "output_type": "display_data"
    }
   ],
   "source": [
    "ax = sns.countplot(x=y_avaliar)\n",
    "ax.get_yaxis().set_visible(False)\n",
    "plt.xlabel('Churn')\n",
    "ax.bar_label(container = ax.containers[0])"
   ]
  },
  {
   "cell_type": "markdown",
   "id": "c0623563",
   "metadata": {},
   "source": [
    "58% da base está marcada como Churn"
   ]
  },
  {
   "cell_type": "code",
   "execution_count": 53,
   "id": "65cfc5b6",
   "metadata": {},
   "outputs": [],
   "source": [
    "dados_pred_avaliar = x_avaliar"
   ]
  },
  {
   "cell_type": "code",
   "execution_count": 54,
   "id": "05063ef8",
   "metadata": {},
   "outputs": [],
   "source": [
    "dados_pred_avaliar['fl_inativo'] = y_avaliar"
   ]
  },
  {
   "cell_type": "code",
   "execution_count": 55,
   "id": "e4063729",
   "metadata": {},
   "outputs": [
    {
     "data": {
      "text/html": [
       "<div>\n",
       "<style scoped>\n",
       "    .dataframe tbody tr th:only-of-type {\n",
       "        vertical-align: middle;\n",
       "    }\n",
       "\n",
       "    .dataframe tbody tr th {\n",
       "        vertical-align: top;\n",
       "    }\n",
       "\n",
       "    .dataframe thead th {\n",
       "        text-align: right;\n",
       "    }\n",
       "</style>\n",
       "<table border=\"1\" class=\"dataframe\">\n",
       "  <thead>\n",
       "    <tr style=\"text-align: right;\">\n",
       "      <th></th>\n",
       "      <th>fl_maior_65_anos</th>\n",
       "      <th>fl_tem_parceiro</th>\n",
       "      <th>fl_dependentes</th>\n",
       "      <th>meses_contrato</th>\n",
       "      <th>fl_servico_telefonico</th>\n",
       "      <th>fl_multiplas_linhas</th>\n",
       "      <th>fl_servico_seguranca_online</th>\n",
       "      <th>fl_servico_backup_online</th>\n",
       "      <th>fl_servico_protecao_dispositivo</th>\n",
       "      <th>fl_servico_suporte_tech</th>\n",
       "      <th>...</th>\n",
       "      <th>fl_servico_internet_fibra_otica</th>\n",
       "      <th>fl_sem_servico_internet</th>\n",
       "      <th>fl_contrato_anual</th>\n",
       "      <th>fl_contrato_bienal</th>\n",
       "      <th>fl_contrato_mensal</th>\n",
       "      <th>fl_pagamento_ccredito</th>\n",
       "      <th>fl_pagamento_cheque_correio</th>\n",
       "      <th>fl_pagamento_cheque_eletronico</th>\n",
       "      <th>fl_pagamento_transf_bancaria</th>\n",
       "      <th>fl_inativo</th>\n",
       "    </tr>\n",
       "  </thead>\n",
       "  <tbody>\n",
       "    <tr>\n",
       "      <th>30</th>\n",
       "      <td>0</td>\n",
       "      <td>0</td>\n",
       "      <td>0</td>\n",
       "      <td>11</td>\n",
       "      <td>1</td>\n",
       "      <td>1</td>\n",
       "      <td>1</td>\n",
       "      <td>0</td>\n",
       "      <td>0</td>\n",
       "      <td>0</td>\n",
       "      <td>...</td>\n",
       "      <td>1</td>\n",
       "      <td>0</td>\n",
       "      <td>0</td>\n",
       "      <td>0</td>\n",
       "      <td>1</td>\n",
       "      <td>0</td>\n",
       "      <td>0</td>\n",
       "      <td>0</td>\n",
       "      <td>1</td>\n",
       "      <td>1</td>\n",
       "    </tr>\n",
       "    <tr>\n",
       "      <th>75</th>\n",
       "      <td>0</td>\n",
       "      <td>0</td>\n",
       "      <td>0</td>\n",
       "      <td>71</td>\n",
       "      <td>1</td>\n",
       "      <td>0</td>\n",
       "      <td>0</td>\n",
       "      <td>0</td>\n",
       "      <td>0</td>\n",
       "      <td>0</td>\n",
       "      <td>...</td>\n",
       "      <td>0</td>\n",
       "      <td>1</td>\n",
       "      <td>0</td>\n",
       "      <td>1</td>\n",
       "      <td>0</td>\n",
       "      <td>1</td>\n",
       "      <td>0</td>\n",
       "      <td>0</td>\n",
       "      <td>0</td>\n",
       "      <td>0</td>\n",
       "    </tr>\n",
       "    <tr>\n",
       "      <th>96</th>\n",
       "      <td>0</td>\n",
       "      <td>0</td>\n",
       "      <td>0</td>\n",
       "      <td>29</td>\n",
       "      <td>1</td>\n",
       "      <td>0</td>\n",
       "      <td>1</td>\n",
       "      <td>1</td>\n",
       "      <td>0</td>\n",
       "      <td>1</td>\n",
       "      <td>...</td>\n",
       "      <td>0</td>\n",
       "      <td>0</td>\n",
       "      <td>1</td>\n",
       "      <td>0</td>\n",
       "      <td>0</td>\n",
       "      <td>0</td>\n",
       "      <td>0</td>\n",
       "      <td>1</td>\n",
       "      <td>0</td>\n",
       "      <td>0</td>\n",
       "    </tr>\n",
       "    <tr>\n",
       "      <th>98</th>\n",
       "      <td>1</td>\n",
       "      <td>0</td>\n",
       "      <td>0</td>\n",
       "      <td>5</td>\n",
       "      <td>1</td>\n",
       "      <td>0</td>\n",
       "      <td>1</td>\n",
       "      <td>1</td>\n",
       "      <td>0</td>\n",
       "      <td>1</td>\n",
       "      <td>...</td>\n",
       "      <td>0</td>\n",
       "      <td>0</td>\n",
       "      <td>0</td>\n",
       "      <td>0</td>\n",
       "      <td>1</td>\n",
       "      <td>1</td>\n",
       "      <td>0</td>\n",
       "      <td>0</td>\n",
       "      <td>0</td>\n",
       "      <td>1</td>\n",
       "    </tr>\n",
       "    <tr>\n",
       "      <th>175</th>\n",
       "      <td>1</td>\n",
       "      <td>1</td>\n",
       "      <td>0</td>\n",
       "      <td>65</td>\n",
       "      <td>1</td>\n",
       "      <td>1</td>\n",
       "      <td>0</td>\n",
       "      <td>1</td>\n",
       "      <td>1</td>\n",
       "      <td>0</td>\n",
       "      <td>...</td>\n",
       "      <td>1</td>\n",
       "      <td>0</td>\n",
       "      <td>1</td>\n",
       "      <td>0</td>\n",
       "      <td>0</td>\n",
       "      <td>0</td>\n",
       "      <td>0</td>\n",
       "      <td>0</td>\n",
       "      <td>1</td>\n",
       "      <td>0</td>\n",
       "    </tr>\n",
       "    <tr>\n",
       "      <th>...</th>\n",
       "      <td>...</td>\n",
       "      <td>...</td>\n",
       "      <td>...</td>\n",
       "      <td>...</td>\n",
       "      <td>...</td>\n",
       "      <td>...</td>\n",
       "      <td>...</td>\n",
       "      <td>...</td>\n",
       "      <td>...</td>\n",
       "      <td>...</td>\n",
       "      <td>...</td>\n",
       "      <td>...</td>\n",
       "      <td>...</td>\n",
       "      <td>...</td>\n",
       "      <td>...</td>\n",
       "      <td>...</td>\n",
       "      <td>...</td>\n",
       "      <td>...</td>\n",
       "      <td>...</td>\n",
       "      <td>...</td>\n",
       "      <td>...</td>\n",
       "    </tr>\n",
       "    <tr>\n",
       "      <th>7158</th>\n",
       "      <td>0</td>\n",
       "      <td>0</td>\n",
       "      <td>0</td>\n",
       "      <td>14</td>\n",
       "      <td>1</td>\n",
       "      <td>1</td>\n",
       "      <td>0</td>\n",
       "      <td>1</td>\n",
       "      <td>0</td>\n",
       "      <td>0</td>\n",
       "      <td>...</td>\n",
       "      <td>0</td>\n",
       "      <td>0</td>\n",
       "      <td>1</td>\n",
       "      <td>0</td>\n",
       "      <td>0</td>\n",
       "      <td>0</td>\n",
       "      <td>1</td>\n",
       "      <td>0</td>\n",
       "      <td>0</td>\n",
       "      <td>0</td>\n",
       "    </tr>\n",
       "    <tr>\n",
       "      <th>7180</th>\n",
       "      <td>0</td>\n",
       "      <td>1</td>\n",
       "      <td>0</td>\n",
       "      <td>49</td>\n",
       "      <td>0</td>\n",
       "      <td>0</td>\n",
       "      <td>1</td>\n",
       "      <td>0</td>\n",
       "      <td>0</td>\n",
       "      <td>0</td>\n",
       "      <td>...</td>\n",
       "      <td>0</td>\n",
       "      <td>0</td>\n",
       "      <td>0</td>\n",
       "      <td>0</td>\n",
       "      <td>1</td>\n",
       "      <td>0</td>\n",
       "      <td>0</td>\n",
       "      <td>0</td>\n",
       "      <td>1</td>\n",
       "      <td>1</td>\n",
       "    </tr>\n",
       "    <tr>\n",
       "      <th>7211</th>\n",
       "      <td>0</td>\n",
       "      <td>0</td>\n",
       "      <td>0</td>\n",
       "      <td>9</td>\n",
       "      <td>1</td>\n",
       "      <td>1</td>\n",
       "      <td>0</td>\n",
       "      <td>0</td>\n",
       "      <td>0</td>\n",
       "      <td>0</td>\n",
       "      <td>...</td>\n",
       "      <td>1</td>\n",
       "      <td>0</td>\n",
       "      <td>0</td>\n",
       "      <td>0</td>\n",
       "      <td>1</td>\n",
       "      <td>0</td>\n",
       "      <td>0</td>\n",
       "      <td>1</td>\n",
       "      <td>0</td>\n",
       "      <td>1</td>\n",
       "    </tr>\n",
       "    <tr>\n",
       "      <th>7239</th>\n",
       "      <td>0</td>\n",
       "      <td>1</td>\n",
       "      <td>1</td>\n",
       "      <td>67</td>\n",
       "      <td>1</td>\n",
       "      <td>0</td>\n",
       "      <td>0</td>\n",
       "      <td>0</td>\n",
       "      <td>0</td>\n",
       "      <td>0</td>\n",
       "      <td>...</td>\n",
       "      <td>0</td>\n",
       "      <td>1</td>\n",
       "      <td>0</td>\n",
       "      <td>1</td>\n",
       "      <td>0</td>\n",
       "      <td>0</td>\n",
       "      <td>0</td>\n",
       "      <td>0</td>\n",
       "      <td>1</td>\n",
       "      <td>0</td>\n",
       "    </tr>\n",
       "    <tr>\n",
       "      <th>7247</th>\n",
       "      <td>0</td>\n",
       "      <td>1</td>\n",
       "      <td>1</td>\n",
       "      <td>31</td>\n",
       "      <td>1</td>\n",
       "      <td>0</td>\n",
       "      <td>0</td>\n",
       "      <td>0</td>\n",
       "      <td>0</td>\n",
       "      <td>0</td>\n",
       "      <td>...</td>\n",
       "      <td>0</td>\n",
       "      <td>1</td>\n",
       "      <td>0</td>\n",
       "      <td>0</td>\n",
       "      <td>1</td>\n",
       "      <td>0</td>\n",
       "      <td>1</td>\n",
       "      <td>0</td>\n",
       "      <td>0</td>\n",
       "      <td>1</td>\n",
       "    </tr>\n",
       "  </tbody>\n",
       "</table>\n",
       "<p>224 rows × 26 columns</p>\n",
       "</div>"
      ],
      "text/plain": [
       "      fl_maior_65_anos  fl_tem_parceiro  fl_dependentes  meses_contrato  \\\n",
       "30                   0                0               0              11   \n",
       "75                   0                0               0              71   \n",
       "96                   0                0               0              29   \n",
       "98                   1                0               0               5   \n",
       "175                  1                1               0              65   \n",
       "...                ...              ...             ...             ...   \n",
       "7158                 0                0               0              14   \n",
       "7180                 0                1               0              49   \n",
       "7211                 0                0               0               9   \n",
       "7239                 0                1               1              67   \n",
       "7247                 0                1               1              31   \n",
       "\n",
       "      fl_servico_telefonico  fl_multiplas_linhas  fl_servico_seguranca_online  \\\n",
       "30                        1                    1                            1   \n",
       "75                        1                    0                            0   \n",
       "96                        1                    0                            1   \n",
       "98                        1                    0                            1   \n",
       "175                       1                    1                            0   \n",
       "...                     ...                  ...                          ...   \n",
       "7158                      1                    1                            0   \n",
       "7180                      0                    0                            1   \n",
       "7211                      1                    1                            0   \n",
       "7239                      1                    0                            0   \n",
       "7247                      1                    0                            0   \n",
       "\n",
       "      fl_servico_backup_online  fl_servico_protecao_dispositivo  \\\n",
       "30                           0                                0   \n",
       "75                           0                                0   \n",
       "96                           1                                0   \n",
       "98                           1                                0   \n",
       "175                          1                                1   \n",
       "...                        ...                              ...   \n",
       "7158                         1                                0   \n",
       "7180                         0                                0   \n",
       "7211                         0                                0   \n",
       "7239                         0                                0   \n",
       "7247                         0                                0   \n",
       "\n",
       "      fl_servico_suporte_tech  ...  fl_servico_internet_fibra_otica  \\\n",
       "30                          0  ...                                1   \n",
       "75                          0  ...                                0   \n",
       "96                          1  ...                                0   \n",
       "98                          1  ...                                0   \n",
       "175                         0  ...                                1   \n",
       "...                       ...  ...                              ...   \n",
       "7158                        0  ...                                0   \n",
       "7180                        0  ...                                0   \n",
       "7211                        0  ...                                1   \n",
       "7239                        0  ...                                0   \n",
       "7247                        0  ...                                0   \n",
       "\n",
       "      fl_sem_servico_internet  fl_contrato_anual  fl_contrato_bienal  \\\n",
       "30                          0                  0                   0   \n",
       "75                          1                  0                   1   \n",
       "96                          0                  1                   0   \n",
       "98                          0                  0                   0   \n",
       "175                         0                  1                   0   \n",
       "...                       ...                ...                 ...   \n",
       "7158                        0                  1                   0   \n",
       "7180                        0                  0                   0   \n",
       "7211                        0                  0                   0   \n",
       "7239                        1                  0                   1   \n",
       "7247                        1                  0                   0   \n",
       "\n",
       "      fl_contrato_mensal  fl_pagamento_ccredito  fl_pagamento_cheque_correio  \\\n",
       "30                     1                      0                            0   \n",
       "75                     0                      1                            0   \n",
       "96                     0                      0                            0   \n",
       "98                     1                      1                            0   \n",
       "175                    0                      0                            0   \n",
       "...                  ...                    ...                          ...   \n",
       "7158                   0                      0                            1   \n",
       "7180                   1                      0                            0   \n",
       "7211                   1                      0                            0   \n",
       "7239                   0                      0                            0   \n",
       "7247                   1                      0                            1   \n",
       "\n",
       "      fl_pagamento_cheque_eletronico  fl_pagamento_transf_bancaria  fl_inativo  \n",
       "30                                 0                             1           1  \n",
       "75                                 0                             0           0  \n",
       "96                                 1                             0           0  \n",
       "98                                 0                             0           1  \n",
       "175                                0                             1           0  \n",
       "...                              ...                           ...         ...  \n",
       "7158                               0                             0           0  \n",
       "7180                               0                             1           1  \n",
       "7211                               1                             0           1  \n",
       "7239                               0                             1           0  \n",
       "7247                               0                             0           1  \n",
       "\n",
       "[224 rows x 26 columns]"
      ]
     },
     "execution_count": 55,
     "metadata": {},
     "output_type": "execute_result"
    }
   ],
   "source": [
    "dados_pred_avaliar"
   ]
  },
  {
   "cell_type": "markdown",
   "id": "dda62f69",
   "metadata": {},
   "source": [
    "#### Testando as hipóteses"
   ]
  },
  {
   "cell_type": "markdown",
   "id": "b65e7033",
   "metadata": {},
   "source": [
    "Haviamos levanto a questão de que o churn estava atrelado a contrato mensal, fibra ótica, cheque eletrônico e meses de contrato baixos "
   ]
  },
  {
   "cell_type": "code",
   "execution_count": 79,
   "id": "99771e4d",
   "metadata": {},
   "outputs": [
    {
     "data": {
      "image/png": "[encoded data removed]",
      "text/plain": [
       "<Figure size 1440x1152 with 2 Axes>"
      ]
     },
     "metadata": {
      "needs_background": "light"
     },
     "output_type": "display_data"
    }
   ],
   "source": [
    "import matplotlib.pyplot as plt\n",
    "\n",
    "fig, ax = plt.subplots(figsize=(20, 16))\n",
    "\n",
    "sns.heatmap(dados_pred_avaliar.corr(), annot=True)\n",
    "plt.show()"
   ]
  },
  {
   "cell_type": "code",
   "execution_count": 72,
   "id": "cc16ad2e",
   "metadata": {
    "scrolled": true
   },
   "outputs": [
    {
     "data": {
      "image/png": "[encoded data removed]",
      "text/plain": [
       "<Figure size 720x360 with 2 Axes>"
      ]
     },
     "metadata": {
      "needs_background": "light"
     },
     "output_type": "display_data"
    }
   ],
   "source": [
    "sns.displot(dados_pred_avaliar, x='meses_contrato', col='fl_inativo');"
   ]
  },
  {
   "cell_type": "code",
   "execution_count": 76,
   "id": "cce08f0b",
   "metadata": {},
   "outputs": [
    {
     "data": {
      "text/html": [
       "<div>\n",
       "<style scoped>\n",
       "    .dataframe tbody tr th:only-of-type {\n",
       "        vertical-align: middle;\n",
       "    }\n",
       "\n",
       "    .dataframe tbody tr th {\n",
       "        vertical-align: top;\n",
       "    }\n",
       "\n",
       "    .dataframe thead th {\n",
       "        text-align: right;\n",
       "    }\n",
       "</style>\n",
       "<table border=\"1\" class=\"dataframe\">\n",
       "  <thead>\n",
       "    <tr style=\"text-align: right;\">\n",
       "      <th>fl_contrato_mensal</th>\n",
       "      <th>0</th>\n",
       "      <th>1</th>\n",
       "    </tr>\n",
       "    <tr>\n",
       "      <th>fl_inativo</th>\n",
       "      <th></th>\n",
       "      <th></th>\n",
       "    </tr>\n",
       "  </thead>\n",
       "  <tbody>\n",
       "    <tr>\n",
       "      <th>0</th>\n",
       "      <td>100.0</td>\n",
       "      <td>0.0</td>\n",
       "    </tr>\n",
       "    <tr>\n",
       "      <th>1</th>\n",
       "      <td>0.0</td>\n",
       "      <td>100.0</td>\n",
       "    </tr>\n",
       "  </tbody>\n",
       "</table>\n",
       "</div>"
      ],
      "text/plain": [
       "fl_contrato_mensal      0      1\n",
       "fl_inativo                      \n",
       "0                   100.0    0.0\n",
       "1                     0.0  100.0"
      ]
     },
     "execution_count": 76,
     "metadata": {},
     "output_type": "execute_result"
    }
   ],
   "source": [
    "pd.crosstab(index = dados_pred_avaliar.fl_inativo, columns = dados_pred_avaliar.fl_contrato_mensal, normalize = 'index') * 100"
   ]
  },
  {
   "cell_type": "code",
   "execution_count": 80,
   "id": "579af533",
   "metadata": {},
   "outputs": [
    {
     "data": {
      "text/html": [
       "<div>\n",
       "<style scoped>\n",
       "    .dataframe tbody tr th:only-of-type {\n",
       "        vertical-align: middle;\n",
       "    }\n",
       "\n",
       "    .dataframe tbody tr th {\n",
       "        vertical-align: top;\n",
       "    }\n",
       "\n",
       "    .dataframe thead th {\n",
       "        text-align: right;\n",
       "    }\n",
       "</style>\n",
       "<table border=\"1\" class=\"dataframe\">\n",
       "  <thead>\n",
       "    <tr style=\"text-align: right;\">\n",
       "      <th>fl_servico_internet_fibra_otica</th>\n",
       "      <th>0</th>\n",
       "      <th>1</th>\n",
       "    </tr>\n",
       "    <tr>\n",
       "      <th>fl_inativo</th>\n",
       "      <th></th>\n",
       "      <th></th>\n",
       "    </tr>\n",
       "  </thead>\n",
       "  <tbody>\n",
       "    <tr>\n",
       "      <th>0</th>\n",
       "      <td>67.021277</td>\n",
       "      <td>32.978723</td>\n",
       "    </tr>\n",
       "    <tr>\n",
       "      <th>1</th>\n",
       "      <td>45.384615</td>\n",
       "      <td>54.615385</td>\n",
       "    </tr>\n",
       "  </tbody>\n",
       "</table>\n",
       "</div>"
      ],
      "text/plain": [
       "fl_servico_internet_fibra_otica          0          1\n",
       "fl_inativo                                           \n",
       "0                                67.021277  32.978723\n",
       "1                                45.384615  54.615385"
      ]
     },
     "execution_count": 80,
     "metadata": {},
     "output_type": "execute_result"
    }
   ],
   "source": [
    "pd.crosstab(index = dados_pred_avaliar.fl_inativo, columns = dados_pred_avaliar.fl_servico_internet_fibra_otica, normalize = 'index') * 100"
   ]
  },
  {
   "cell_type": "code",
   "execution_count": 81,
   "id": "ff9748c6",
   "metadata": {},
   "outputs": [
    {
     "data": {
      "text/html": [
       "<div>\n",
       "<style scoped>\n",
       "    .dataframe tbody tr th:only-of-type {\n",
       "        vertical-align: middle;\n",
       "    }\n",
       "\n",
       "    .dataframe tbody tr th {\n",
       "        vertical-align: top;\n",
       "    }\n",
       "\n",
       "    .dataframe thead th {\n",
       "        text-align: right;\n",
       "    }\n",
       "</style>\n",
       "<table border=\"1\" class=\"dataframe\">\n",
       "  <thead>\n",
       "    <tr style=\"text-align: right;\">\n",
       "      <th>fl_pagamento_cheque_eletronico</th>\n",
       "      <th>0</th>\n",
       "      <th>1</th>\n",
       "    </tr>\n",
       "    <tr>\n",
       "      <th>fl_inativo</th>\n",
       "      <th></th>\n",
       "      <th></th>\n",
       "    </tr>\n",
       "  </thead>\n",
       "  <tbody>\n",
       "    <tr>\n",
       "      <th>0</th>\n",
       "      <td>84.042553</td>\n",
       "      <td>15.957447</td>\n",
       "    </tr>\n",
       "    <tr>\n",
       "      <th>1</th>\n",
       "      <td>50.000000</td>\n",
       "      <td>50.000000</td>\n",
       "    </tr>\n",
       "  </tbody>\n",
       "</table>\n",
       "</div>"
      ],
      "text/plain": [
       "fl_pagamento_cheque_eletronico          0          1\n",
       "fl_inativo                                          \n",
       "0                               84.042553  15.957447\n",
       "1                               50.000000  50.000000"
      ]
     },
     "execution_count": 81,
     "metadata": {},
     "output_type": "execute_result"
    }
   ],
   "source": [
    "pd.crosstab(index = dados_pred_avaliar.fl_inativo, columns = dados_pred_avaliar.fl_pagamento_cheque_eletronico, normalize = 'index') * 100"
   ]
  },
  {
   "cell_type": "code",
   "execution_count": 78,
   "id": "10bb586b",
   "metadata": {},
   "outputs": [
    {
     "data": {
      "text/plain": [
       "1    130\n",
       "Name: fl_contrato_mensal, dtype: int64"
      ]
     },
     "execution_count": 78,
     "metadata": {},
     "output_type": "execute_result"
    }
   ],
   "source": [
    "dados_pred_avaliar.query(\"fl_inativo == 1\").fl_contrato_mensal.value_counts()"
   ]
  },
  {
   "cell_type": "markdown",
   "id": "2df82f3c",
   "metadata": {},
   "source": [
    "O modelo quando testado sob uma potencial base de clientes, que não tenha sido nem a de treino nem a de teste, **não apresentou um resultado satisfatório**.\n",
    "\n",
    "A generalização dos clientes com contrato mensal foi o resultado mais impactante nesta análise. O modelo pode ter sofrido um _overfit_ que o fez realizar essa marcação generalizada.\n",
    "\n",
    "O modelo peca pelo excesso. Não é o ideal mas nem tudo está perdido.\n"
   ]
  }
 ],
 "metadata": {
  "kernelspec": {
   "display_name": "Python 3",
   "language": "python",
   "name": "python3"
  },
  "language_info": {
   "codemirror_mode": {
    "name": "ipython",
    "version": 3
   },
   "file_extension": ".py",
   "mimetype": "text/x-python",
   "name": "python",
   "nbconvert_exporter": "python",
   "pygments_lexer": "ipython3",
   "version": "3.8.8"
  }
 },
 "nbformat": 4,
 "nbformat_minor": 5
}
