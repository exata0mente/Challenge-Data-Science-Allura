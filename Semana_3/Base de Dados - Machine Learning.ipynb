{
 "cells": [
  {
   "cell_type": "markdown",
   "id": "678012f3",
   "metadata": {},
   "source": [
    "## Base de Dados - Machine Learning"
   ]
  },
  {
   "cell_type": "code",
   "execution_count": 48,
   "id": "8a37ac69",
   "metadata": {},
   "outputs": [],
   "source": [
    "import pandas as pd\n",
    "import numpy as np\n",
    "import seaborn as sns"
   ]
  },
  {
   "cell_type": "code",
   "execution_count": 49,
   "id": "06063023",
   "metadata": {},
   "outputs": [],
   "source": [
    "SEED = 5\n",
    "np.random.seed(SEED)"
   ]
  },
  {
   "cell_type": "code",
   "execution_count": 50,
   "id": "b1c0990d",
   "metadata": {},
   "outputs": [
    {
     "data": {
      "text/html": [
       "<div>\n",
       "<style scoped>\n",
       "    .dataframe tbody tr th:only-of-type {\n",
       "        vertical-align: middle;\n",
       "    }\n",
       "\n",
       "    .dataframe tbody tr th {\n",
       "        vertical-align: top;\n",
       "    }\n",
       "\n",
       "    .dataframe thead th {\n",
       "        text-align: right;\n",
       "    }\n",
       "</style>\n",
       "<table border=\"1\" class=\"dataframe\">\n",
       "  <thead>\n",
       "    <tr style=\"text-align: right;\">\n",
       "      <th></th>\n",
       "      <th>id_cliente</th>\n",
       "      <th>fl_inativo</th>\n",
       "      <th>sexo</th>\n",
       "      <th>fl_maior_65_anos</th>\n",
       "      <th>fl_tem_parceiro</th>\n",
       "      <th>fl_dependentes</th>\n",
       "      <th>meses_contrato</th>\n",
       "      <th>fl_servico_telefonico</th>\n",
       "      <th>fl_multiplas_linhas</th>\n",
       "      <th>fl_servico_seguranca_online</th>\n",
       "      <th>...</th>\n",
       "      <th>fl_servico_internet_dsl</th>\n",
       "      <th>fl_servico_internet_fibra_otica</th>\n",
       "      <th>fl_sem_servico_internet</th>\n",
       "      <th>fl_contrato_anual</th>\n",
       "      <th>fl_contrato_bienal</th>\n",
       "      <th>fl_contrato_mensal</th>\n",
       "      <th>fl_pagamento_ccredito</th>\n",
       "      <th>fl_pagamento_cheque_correio</th>\n",
       "      <th>fl_pagamento_cheque_eletronico</th>\n",
       "      <th>fl_pagamento_transf_bancaria</th>\n",
       "    </tr>\n",
       "  </thead>\n",
       "  <tbody>\n",
       "    <tr>\n",
       "      <th>0</th>\n",
       "      <td>0002-ORFBO</td>\n",
       "      <td>0</td>\n",
       "      <td>Feminino</td>\n",
       "      <td>0</td>\n",
       "      <td>1</td>\n",
       "      <td>1</td>\n",
       "      <td>9</td>\n",
       "      <td>1</td>\n",
       "      <td>0</td>\n",
       "      <td>0</td>\n",
       "      <td>...</td>\n",
       "      <td>1</td>\n",
       "      <td>0</td>\n",
       "      <td>0</td>\n",
       "      <td>1</td>\n",
       "      <td>0</td>\n",
       "      <td>0</td>\n",
       "      <td>0</td>\n",
       "      <td>1</td>\n",
       "      <td>0</td>\n",
       "      <td>0</td>\n",
       "    </tr>\n",
       "    <tr>\n",
       "      <th>1</th>\n",
       "      <td>0003-MKNFE</td>\n",
       "      <td>0</td>\n",
       "      <td>Masculino</td>\n",
       "      <td>0</td>\n",
       "      <td>0</td>\n",
       "      <td>0</td>\n",
       "      <td>9</td>\n",
       "      <td>1</td>\n",
       "      <td>1</td>\n",
       "      <td>0</td>\n",
       "      <td>...</td>\n",
       "      <td>1</td>\n",
       "      <td>0</td>\n",
       "      <td>0</td>\n",
       "      <td>0</td>\n",
       "      <td>0</td>\n",
       "      <td>1</td>\n",
       "      <td>0</td>\n",
       "      <td>1</td>\n",
       "      <td>0</td>\n",
       "      <td>0</td>\n",
       "    </tr>\n",
       "    <tr>\n",
       "      <th>2</th>\n",
       "      <td>0004-TLHLJ</td>\n",
       "      <td>1</td>\n",
       "      <td>Masculino</td>\n",
       "      <td>0</td>\n",
       "      <td>0</td>\n",
       "      <td>0</td>\n",
       "      <td>4</td>\n",
       "      <td>1</td>\n",
       "      <td>0</td>\n",
       "      <td>0</td>\n",
       "      <td>...</td>\n",
       "      <td>0</td>\n",
       "      <td>1</td>\n",
       "      <td>0</td>\n",
       "      <td>0</td>\n",
       "      <td>0</td>\n",
       "      <td>1</td>\n",
       "      <td>0</td>\n",
       "      <td>0</td>\n",
       "      <td>1</td>\n",
       "      <td>0</td>\n",
       "    </tr>\n",
       "    <tr>\n",
       "      <th>3</th>\n",
       "      <td>0011-IGKFF</td>\n",
       "      <td>1</td>\n",
       "      <td>Masculino</td>\n",
       "      <td>1</td>\n",
       "      <td>1</td>\n",
       "      <td>0</td>\n",
       "      <td>13</td>\n",
       "      <td>1</td>\n",
       "      <td>0</td>\n",
       "      <td>0</td>\n",
       "      <td>...</td>\n",
       "      <td>0</td>\n",
       "      <td>1</td>\n",
       "      <td>0</td>\n",
       "      <td>0</td>\n",
       "      <td>0</td>\n",
       "      <td>1</td>\n",
       "      <td>0</td>\n",
       "      <td>0</td>\n",
       "      <td>1</td>\n",
       "      <td>0</td>\n",
       "    </tr>\n",
       "    <tr>\n",
       "      <th>4</th>\n",
       "      <td>0013-EXCHZ</td>\n",
       "      <td>1</td>\n",
       "      <td>Feminino</td>\n",
       "      <td>1</td>\n",
       "      <td>1</td>\n",
       "      <td>0</td>\n",
       "      <td>3</td>\n",
       "      <td>1</td>\n",
       "      <td>0</td>\n",
       "      <td>0</td>\n",
       "      <td>...</td>\n",
       "      <td>0</td>\n",
       "      <td>1</td>\n",
       "      <td>0</td>\n",
       "      <td>0</td>\n",
       "      <td>0</td>\n",
       "      <td>1</td>\n",
       "      <td>0</td>\n",
       "      <td>1</td>\n",
       "      <td>0</td>\n",
       "      <td>0</td>\n",
       "    </tr>\n",
       "  </tbody>\n",
       "</table>\n",
       "<p>5 rows × 29 columns</p>\n",
       "</div>"
      ],
      "text/plain": [
       "   id_cliente  fl_inativo       sexo  fl_maior_65_anos  fl_tem_parceiro  \\\n",
       "0  0002-ORFBO           0   Feminino                 0                1   \n",
       "1  0003-MKNFE           0  Masculino                 0                0   \n",
       "2  0004-TLHLJ           1  Masculino                 0                0   \n",
       "3  0011-IGKFF           1  Masculino                 1                1   \n",
       "4  0013-EXCHZ           1   Feminino                 1                1   \n",
       "\n",
       "   fl_dependentes  meses_contrato  fl_servico_telefonico  fl_multiplas_linhas  \\\n",
       "0               1               9                      1                    0   \n",
       "1               0               9                      1                    1   \n",
       "2               0               4                      1                    0   \n",
       "3               0              13                      1                    0   \n",
       "4               0               3                      1                    0   \n",
       "\n",
       "   fl_servico_seguranca_online  ...  fl_servico_internet_dsl  \\\n",
       "0                            0  ...                        1   \n",
       "1                            0  ...                        1   \n",
       "2                            0  ...                        0   \n",
       "3                            0  ...                        0   \n",
       "4                            0  ...                        0   \n",
       "\n",
       "   fl_servico_internet_fibra_otica  fl_sem_servico_internet  \\\n",
       "0                                0                        0   \n",
       "1                                0                        0   \n",
       "2                                1                        0   \n",
       "3                                1                        0   \n",
       "4                                1                        0   \n",
       "\n",
       "   fl_contrato_anual  fl_contrato_bienal  fl_contrato_mensal  \\\n",
       "0                  1                   0                   0   \n",
       "1                  0                   0                   1   \n",
       "2                  0                   0                   1   \n",
       "3                  0                   0                   1   \n",
       "4                  0                   0                   1   \n",
       "\n",
       "   fl_pagamento_ccredito  fl_pagamento_cheque_correio  \\\n",
       "0                      0                            1   \n",
       "1                      0                            1   \n",
       "2                      0                            0   \n",
       "3                      0                            0   \n",
       "4                      0                            1   \n",
       "\n",
       "   fl_pagamento_cheque_eletronico  fl_pagamento_transf_bancaria  \n",
       "0                               0                             0  \n",
       "1                               0                             0  \n",
       "2                               1                             0  \n",
       "3                               1                             0  \n",
       "4                               0                             0  \n",
       "\n",
       "[5 rows x 29 columns]"
      ]
     },
     "execution_count": 50,
     "metadata": {},
     "output_type": "execute_result"
    }
   ],
   "source": [
    "dados = pd.read_json('../Dados/df_para_ml.json')\n",
    "dados.head()"
   ]
  },
  {
   "cell_type": "markdown",
   "id": "2be32ece",
   "metadata": {},
   "source": [
    "### Verificar se a variável target está balanceada"
   ]
  },
  {
   "cell_type": "code",
   "execution_count": 51,
   "id": "5557c391",
   "metadata": {},
   "outputs": [
    {
     "data": {
      "text/plain": [
       "0    5174\n",
       "1    1869\n",
       "Name: fl_inativo, dtype: int64"
      ]
     },
     "execution_count": 51,
     "metadata": {},
     "output_type": "execute_result"
    }
   ],
   "source": [
    "dados.fl_inativo.value_counts()"
   ]
  },
  {
   "cell_type": "code",
   "execution_count": 52,
   "id": "dade0b3e",
   "metadata": {},
   "outputs": [
    {
     "data": {
      "text/plain": [
       "0    73.463013\n",
       "1    26.536987\n",
       "Name: fl_inativo, dtype: float64"
      ]
     },
     "execution_count": 52,
     "metadata": {},
     "output_type": "execute_result"
    }
   ],
   "source": [
    "dados.fl_inativo.value_counts(normalize=True) * 100"
   ]
  },
  {
   "cell_type": "markdown",
   "id": "a620d2ed",
   "metadata": {},
   "source": [
    "Temos que 73% da base está classificada como 0 (não churn) apresentando um desbalanceamento"
   ]
  },
  {
   "cell_type": "markdown",
   "id": "28e56c3e",
   "metadata": {},
   "source": [
    "#### Balancendo os dados"
   ]
  },
  {
   "cell_type": "code",
   "execution_count": 53,
   "id": "dba371e5",
   "metadata": {},
   "outputs": [],
   "source": [
    "from imblearn.over_sampling import SMOTE"
   ]
  },
  {
   "cell_type": "markdown",
   "id": "74981dc3",
   "metadata": {},
   "source": [
    "Separando X e y"
   ]
  },
  {
   "cell_type": "code",
   "execution_count": 54,
   "id": "51d7a3ba",
   "metadata": {},
   "outputs": [],
   "source": [
    "map_sexo = {'Feminino': 0, 'Masculino': 1}\n",
    "dados.sexo.replace(map_sexo, inplace=True)"
   ]
  },
  {
   "cell_type": "code",
   "execution_count": 55,
   "id": "d0d0ecea",
   "metadata": {},
   "outputs": [],
   "source": [
    "x = dados.loc[:, 'sexo':'fl_pagamento_transf_bancaria']\n",
    "y = dados.fl_inativo"
   ]
  },
  {
   "cell_type": "code",
   "execution_count": 56,
   "id": "419d13f6",
   "metadata": {},
   "outputs": [],
   "source": [
    "smote = SMOTE(random_state=SEED)"
   ]
  },
  {
   "cell_type": "markdown",
   "id": "ca236a46",
   "metadata": {},
   "source": [
    "[SMOTE.fit_resample](https://imbalanced-learn.org/stable/references/generated/imblearn.over_sampling.SMOTE.html#imblearn.over_sampling.SMOTE.fit_resample)"
   ]
  },
  {
   "cell_type": "code",
   "execution_count": 58,
   "id": "95a91899",
   "metadata": {},
   "outputs": [
    {
     "data": {
      "text/plain": [
       "(7043, 29)"
      ]
     },
     "execution_count": 58,
     "metadata": {},
     "output_type": "execute_result"
    }
   ],
   "source": [
    "dados.shape"
   ]
  },
  {
   "cell_type": "code",
   "execution_count": 59,
   "id": "0383a79d",
   "metadata": {},
   "outputs": [],
   "source": [
    "x_resample, y_resample = smote.fit_resample(x, y)"
   ]
  },
  {
   "cell_type": "code",
   "execution_count": 60,
   "id": "d1f69a15",
   "metadata": {},
   "outputs": [
    {
     "data": {
      "text/html": [
       "<div>\n",
       "<style scoped>\n",
       "    .dataframe tbody tr th:only-of-type {\n",
       "        vertical-align: middle;\n",
       "    }\n",
       "\n",
       "    .dataframe tbody tr th {\n",
       "        vertical-align: top;\n",
       "    }\n",
       "\n",
       "    .dataframe thead th {\n",
       "        text-align: right;\n",
       "    }\n",
       "</style>\n",
       "<table border=\"1\" class=\"dataframe\">\n",
       "  <thead>\n",
       "    <tr style=\"text-align: right;\">\n",
       "      <th></th>\n",
       "      <th>fl_inativo</th>\n",
       "      <th>sexo</th>\n",
       "      <th>fl_maior_65_anos</th>\n",
       "      <th>fl_tem_parceiro</th>\n",
       "      <th>fl_dependentes</th>\n",
       "      <th>meses_contrato</th>\n",
       "      <th>fl_servico_telefonico</th>\n",
       "      <th>fl_multiplas_linhas</th>\n",
       "      <th>fl_servico_seguranca_online</th>\n",
       "      <th>fl_servico_backup_online</th>\n",
       "      <th>...</th>\n",
       "      <th>fl_servico_internet_dsl</th>\n",
       "      <th>fl_servico_internet_fibra_otica</th>\n",
       "      <th>fl_sem_servico_internet</th>\n",
       "      <th>fl_contrato_anual</th>\n",
       "      <th>fl_contrato_bienal</th>\n",
       "      <th>fl_contrato_mensal</th>\n",
       "      <th>fl_pagamento_ccredito</th>\n",
       "      <th>fl_pagamento_cheque_correio</th>\n",
       "      <th>fl_pagamento_cheque_eletronico</th>\n",
       "      <th>fl_pagamento_transf_bancaria</th>\n",
       "    </tr>\n",
       "  </thead>\n",
       "  <tbody>\n",
       "    <tr>\n",
       "      <th>0</th>\n",
       "      <td>0</td>\n",
       "      <td>0</td>\n",
       "      <td>0</td>\n",
       "      <td>1</td>\n",
       "      <td>1</td>\n",
       "      <td>9</td>\n",
       "      <td>1</td>\n",
       "      <td>0</td>\n",
       "      <td>0</td>\n",
       "      <td>1</td>\n",
       "      <td>...</td>\n",
       "      <td>1</td>\n",
       "      <td>0</td>\n",
       "      <td>0</td>\n",
       "      <td>1</td>\n",
       "      <td>0</td>\n",
       "      <td>0</td>\n",
       "      <td>0</td>\n",
       "      <td>1</td>\n",
       "      <td>0</td>\n",
       "      <td>0</td>\n",
       "    </tr>\n",
       "    <tr>\n",
       "      <th>1</th>\n",
       "      <td>0</td>\n",
       "      <td>1</td>\n",
       "      <td>0</td>\n",
       "      <td>0</td>\n",
       "      <td>0</td>\n",
       "      <td>9</td>\n",
       "      <td>1</td>\n",
       "      <td>1</td>\n",
       "      <td>0</td>\n",
       "      <td>0</td>\n",
       "      <td>...</td>\n",
       "      <td>1</td>\n",
       "      <td>0</td>\n",
       "      <td>0</td>\n",
       "      <td>0</td>\n",
       "      <td>0</td>\n",
       "      <td>1</td>\n",
       "      <td>0</td>\n",
       "      <td>1</td>\n",
       "      <td>0</td>\n",
       "      <td>0</td>\n",
       "    </tr>\n",
       "    <tr>\n",
       "      <th>2</th>\n",
       "      <td>1</td>\n",
       "      <td>1</td>\n",
       "      <td>0</td>\n",
       "      <td>0</td>\n",
       "      <td>0</td>\n",
       "      <td>4</td>\n",
       "      <td>1</td>\n",
       "      <td>0</td>\n",
       "      <td>0</td>\n",
       "      <td>0</td>\n",
       "      <td>...</td>\n",
       "      <td>0</td>\n",
       "      <td>1</td>\n",
       "      <td>0</td>\n",
       "      <td>0</td>\n",
       "      <td>0</td>\n",
       "      <td>1</td>\n",
       "      <td>0</td>\n",
       "      <td>0</td>\n",
       "      <td>1</td>\n",
       "      <td>0</td>\n",
       "    </tr>\n",
       "    <tr>\n",
       "      <th>3</th>\n",
       "      <td>1</td>\n",
       "      <td>1</td>\n",
       "      <td>1</td>\n",
       "      <td>1</td>\n",
       "      <td>0</td>\n",
       "      <td>13</td>\n",
       "      <td>1</td>\n",
       "      <td>0</td>\n",
       "      <td>0</td>\n",
       "      <td>1</td>\n",
       "      <td>...</td>\n",
       "      <td>0</td>\n",
       "      <td>1</td>\n",
       "      <td>0</td>\n",
       "      <td>0</td>\n",
       "      <td>0</td>\n",
       "      <td>1</td>\n",
       "      <td>0</td>\n",
       "      <td>0</td>\n",
       "      <td>1</td>\n",
       "      <td>0</td>\n",
       "    </tr>\n",
       "    <tr>\n",
       "      <th>4</th>\n",
       "      <td>1</td>\n",
       "      <td>0</td>\n",
       "      <td>1</td>\n",
       "      <td>1</td>\n",
       "      <td>0</td>\n",
       "      <td>3</td>\n",
       "      <td>1</td>\n",
       "      <td>0</td>\n",
       "      <td>0</td>\n",
       "      <td>0</td>\n",
       "      <td>...</td>\n",
       "      <td>0</td>\n",
       "      <td>1</td>\n",
       "      <td>0</td>\n",
       "      <td>0</td>\n",
       "      <td>0</td>\n",
       "      <td>1</td>\n",
       "      <td>0</td>\n",
       "      <td>1</td>\n",
       "      <td>0</td>\n",
       "      <td>0</td>\n",
       "    </tr>\n",
       "  </tbody>\n",
       "</table>\n",
       "<p>5 rows × 28 columns</p>\n",
       "</div>"
      ],
      "text/plain": [
       "   fl_inativo  sexo  fl_maior_65_anos  fl_tem_parceiro  fl_dependentes  \\\n",
       "0           0     0                 0                1               1   \n",
       "1           0     1                 0                0               0   \n",
       "2           1     1                 0                0               0   \n",
       "3           1     1                 1                1               0   \n",
       "4           1     0                 1                1               0   \n",
       "\n",
       "   meses_contrato  fl_servico_telefonico  fl_multiplas_linhas  \\\n",
       "0               9                      1                    0   \n",
       "1               9                      1                    1   \n",
       "2               4                      1                    0   \n",
       "3              13                      1                    0   \n",
       "4               3                      1                    0   \n",
       "\n",
       "   fl_servico_seguranca_online  fl_servico_backup_online  ...  \\\n",
       "0                            0                         1  ...   \n",
       "1                            0                         0  ...   \n",
       "2                            0                         0  ...   \n",
       "3                            0                         1  ...   \n",
       "4                            0                         0  ...   \n",
       "\n",
       "   fl_servico_internet_dsl  fl_servico_internet_fibra_otica  \\\n",
       "0                        1                                0   \n",
       "1                        1                                0   \n",
       "2                        0                                1   \n",
       "3                        0                                1   \n",
       "4                        0                                1   \n",
       "\n",
       "   fl_sem_servico_internet  fl_contrato_anual  fl_contrato_bienal  \\\n",
       "0                        0                  1                   0   \n",
       "1                        0                  0                   0   \n",
       "2                        0                  0                   0   \n",
       "3                        0                  0                   0   \n",
       "4                        0                  0                   0   \n",
       "\n",
       "   fl_contrato_mensal  fl_pagamento_ccredito  fl_pagamento_cheque_correio  \\\n",
       "0                   0                      0                            1   \n",
       "1                   1                      0                            1   \n",
       "2                   1                      0                            0   \n",
       "3                   1                      0                            0   \n",
       "4                   1                      0                            1   \n",
       "\n",
       "   fl_pagamento_cheque_eletronico  fl_pagamento_transf_bancaria  \n",
       "0                               0                             0  \n",
       "1                               0                             0  \n",
       "2                               1                             0  \n",
       "3                               1                             0  \n",
       "4                               0                             0  \n",
       "\n",
       "[5 rows x 28 columns]"
      ]
     },
     "execution_count": 60,
     "metadata": {},
     "output_type": "execute_result"
    }
   ],
   "source": [
    "df_balanced = pd.merge(left=y_resample, right=x_resample, left_index=True, right_index=True)\n",
    "df_balanced.head()"
   ]
  },
  {
   "cell_type": "code",
   "execution_count": 61,
   "id": "c79ff53a",
   "metadata": {},
   "outputs": [
    {
     "data": {
      "text/plain": [
       "(10348, 28)"
      ]
     },
     "execution_count": 61,
     "metadata": {},
     "output_type": "execute_result"
    }
   ],
   "source": [
    "df_balanced.shape"
   ]
  },
  {
   "cell_type": "markdown",
   "id": "e4ae8587",
   "metadata": {},
   "source": [
    "Os dados aumentaram!"
   ]
  },
  {
   "cell_type": "code",
   "execution_count": 62,
   "id": "98c2f96b",
   "metadata": {},
   "outputs": [
    {
     "data": {
      "text/plain": [
       "0    5174\n",
       "1    5174\n",
       "Name: fl_inativo, dtype: int64"
      ]
     },
     "execution_count": 62,
     "metadata": {},
     "output_type": "execute_result"
    }
   ],
   "source": [
    "df_balanced.fl_inativo.value_counts()"
   ]
  },
  {
   "cell_type": "code",
   "execution_count": 66,
   "id": "87fbc9b7",
   "metadata": {},
   "outputs": [],
   "source": [
    "x = df_balanced.drop(columns='fl_inativo')\n",
    "y = df_balanced.fl_inativo"
   ]
  },
  {
   "cell_type": "markdown",
   "id": "98984292",
   "metadata": {},
   "source": [
    "### Criar dois ou mais modelos de Machine Learning"
   ]
  },
  {
   "cell_type": "markdown",
   "id": "7ae8474d",
   "metadata": {},
   "source": [
    "#### Separado base de treino e teste"
   ]
  },
  {
   "cell_type": "code",
   "execution_count": 67,
   "id": "dd53d321",
   "metadata": {},
   "outputs": [],
   "source": [
    "# Divisão para teste e treino\n",
    "from sklearn.model_selection import train_test_split\n",
    "\n",
    "x_train, x_test, y_train, y_test = train_test_split(x, y, test_size=0.25, random_state=SEED)"
   ]
  },
  {
   "cell_type": "markdown",
   "id": "eb1cd561",
   "metadata": {},
   "source": [
    "#### Modelo 1: Regressão Logística"
   ]
  },
  {
   "cell_type": "markdown",
   "id": "24df231c",
   "metadata": {},
   "source": [
    "[train_test_split](https://scikit-learn.org/stable/modules/generated/sklearn.model_selection.train_test_split.html)"
   ]
  },
  {
   "cell_type": "code",
   "execution_count": 68,
   "id": "e2a4dd90",
   "metadata": {},
   "outputs": [],
   "source": [
    "from sklearn.linear_model import LogisticRegression\n",
    "\n",
    "lr = LogisticRegression(max_iter=1000, random_state=SEED)"
   ]
  },
  {
   "cell_type": "markdown",
   "id": "676ad833",
   "metadata": {},
   "source": [
    "#### Modelo 2: Arvore de Decisão"
   ]
  },
  {
   "cell_type": "code",
   "execution_count": 69,
   "id": "2a424d92",
   "metadata": {},
   "outputs": [],
   "source": [
    "from sklearn.tree import DecisionTreeClassifier\n",
    "\n",
    "dt = DecisionTreeClassifier(max_depth=5, random_state = SEED)"
   ]
  },
  {
   "cell_type": "markdown",
   "id": "5e3bceea",
   "metadata": {},
   "source": [
    "#### Modelo 3: Random Forest"
   ]
  },
  {
   "cell_type": "code",
   "execution_count": 70,
   "id": "e4f52216",
   "metadata": {},
   "outputs": [],
   "source": [
    "from sklearn.ensemble import RandomForestClassifier\n",
    "\n",
    "rf = RandomForestClassifier(max_depth=5, random_state=SEED)"
   ]
  },
  {
   "cell_type": "markdown",
   "id": "8ac05c8b",
   "metadata": {},
   "source": [
    "#### Modelo Extra: Classificador Dummy"
   ]
  },
  {
   "cell_type": "code",
   "execution_count": 71,
   "id": "563b4121",
   "metadata": {},
   "outputs": [],
   "source": [
    "from sklearn.dummy import DummyClassifier # Usaremos um classificador dummy\n",
    "\n",
    "dummy = DummyClassifier(random_state=SEED, strategy='constant', constant =1) # Chutar tudo 1"
   ]
  },
  {
   "cell_type": "markdown",
   "id": "4613c7bf",
   "metadata": {},
   "source": [
    "### Avaliar cada modelo utilizando métricas de ML"
   ]
  },
  {
   "cell_type": "markdown",
   "id": "66897a36",
   "metadata": {},
   "source": [
    "Relembrando as métricas:\n",
    "* **Acurácia/Accuracy**: avalia a proporção de acertos em relação a todas as previsões realizadas. É obtida somando a diagonal principal da matriz e dividindo pela soma de todos os valores.\n",
    "* **Sensibilidade/Revocação/Recall**: avalia a proporção de verdadeiros positivos dentre todos os valores positivos reais. É obtida dividindo os verdadeiros positivos pela soma de positivos reais.\n",
    "* **Precisão/Precision**: avalia a proporção de verdadeiros positivos dentre as predições dadas como positivas pelo modelo. É obtida dividindo os verdadeiros positivos pela soma das previsões positivas.\n",
    "* **F1 Score**: é o equilíbrio entre a sensibilidade e a precisão, sendo a média harmônica entre as duas métricas.\n",
    "\n",
    "Fonte: [Alura](https://cursos.alura.com.br/course/modelos-preditivos-dados-deteccao-fraude/task/106629)"
   ]
  },
  {
   "cell_type": "code",
   "execution_count": 72,
   "id": "daf4db5c",
   "metadata": {},
   "outputs": [],
   "source": [
    "metricas = pd.DataFrame()"
   ]
  },
  {
   "cell_type": "code",
   "execution_count": 73,
   "id": "39de87c3",
   "metadata": {},
   "outputs": [],
   "source": [
    "from sklearn import metrics\n",
    "from sklearn.datasets import make_classification\n",
    "from sklearn.metrics import confusion_matrix\n",
    "from sklearn.metrics import ConfusionMatrixDisplay\n",
    "\n",
    "classificadores = [lr, dt, rf, dummy]\n",
    "\n",
    "for idx, clf in enumerate(classificadores):\n",
    "    clf.fit(x_train, y_train)\n",
    "    y_pred = clf.predict(x_test)\n",
    "    metricas.loc[idx, 'classificador'] = clf.__class__.__name__\n",
    "    metricas.loc[idx, 'acuracia'] = metrics.accuracy_score(y_test, y_pred)\n",
    "    metricas.loc[idx, 'precisao'] = metrics.precision_score(y_test, y_pred)\n",
    "    metricas.loc[idx, 'recall'] = metrics.recall_score(y_test, y_pred)\n",
    "    metricas.loc[idx, 'f1'] = metrics.f1_score(y_test, y_pred)\n",
    "    cm = confusion_matrix(y_test, y_pred)\n",
    "    metricas.loc[idx, 'matriz_confusao'] = ConfusionMatrixDisplay(confusion_matrix=cm)"
   ]
  },
  {
   "cell_type": "code",
   "execution_count": 74,
   "id": "267f8e88",
   "metadata": {},
   "outputs": [
    {
     "data": {
      "text/html": [
       "<div>\n",
       "<style scoped>\n",
       "    .dataframe tbody tr th:only-of-type {\n",
       "        vertical-align: middle;\n",
       "    }\n",
       "\n",
       "    .dataframe tbody tr th {\n",
       "        vertical-align: top;\n",
       "    }\n",
       "\n",
       "    .dataframe thead th {\n",
       "        text-align: right;\n",
       "    }\n",
       "</style>\n",
       "<table border=\"1\" class=\"dataframe\">\n",
       "  <thead>\n",
       "    <tr style=\"text-align: right;\">\n",
       "      <th></th>\n",
       "      <th>classificador</th>\n",
       "      <th>acuracia</th>\n",
       "      <th>precisao</th>\n",
       "      <th>recall</th>\n",
       "      <th>f1</th>\n",
       "      <th>matriz_confusao</th>\n",
       "    </tr>\n",
       "  </thead>\n",
       "  <tbody>\n",
       "    <tr>\n",
       "      <th>0</th>\n",
       "      <td>LogisticRegression</td>\n",
       "      <td>0.839583</td>\n",
       "      <td>0.841521</td>\n",
       "      <td>0.831637</td>\n",
       "      <td>0.836550</td>\n",
       "      <td>&lt;sklearn.metrics._plot.confusion_matrix.Confus...</td>\n",
       "    </tr>\n",
       "    <tr>\n",
       "      <th>1</th>\n",
       "      <td>DecisionTreeClassifier</td>\n",
       "      <td>0.802087</td>\n",
       "      <td>0.773019</td>\n",
       "      <td>0.848081</td>\n",
       "      <td>0.808813</td>\n",
       "      <td>&lt;sklearn.metrics._plot.confusion_matrix.Confus...</td>\n",
       "    </tr>\n",
       "    <tr>\n",
       "      <th>2</th>\n",
       "      <td>RandomForestClassifier</td>\n",
       "      <td>0.815230</td>\n",
       "      <td>0.781140</td>\n",
       "      <td>0.869225</td>\n",
       "      <td>0.822832</td>\n",
       "      <td>&lt;sklearn.metrics._plot.confusion_matrix.Confus...</td>\n",
       "    </tr>\n",
       "    <tr>\n",
       "      <th>3</th>\n",
       "      <td>DummyClassifier</td>\n",
       "      <td>0.493622</td>\n",
       "      <td>0.493622</td>\n",
       "      <td>1.000000</td>\n",
       "      <td>0.660973</td>\n",
       "      <td>&lt;sklearn.metrics._plot.confusion_matrix.Confus...</td>\n",
       "    </tr>\n",
       "  </tbody>\n",
       "</table>\n",
       "</div>"
      ],
      "text/plain": [
       "            classificador  acuracia  precisao    recall        f1  \\\n",
       "0      LogisticRegression  0.839583  0.841521  0.831637  0.836550   \n",
       "1  DecisionTreeClassifier  0.802087  0.773019  0.848081  0.808813   \n",
       "2  RandomForestClassifier  0.815230  0.781140  0.869225  0.822832   \n",
       "3         DummyClassifier  0.493622  0.493622  1.000000  0.660973   \n",
       "\n",
       "                                     matriz_confusao  \n",
       "0  <sklearn.metrics._plot.confusion_matrix.Confus...  \n",
       "1  <sklearn.metrics._plot.confusion_matrix.Confus...  \n",
       "2  <sklearn.metrics._plot.confusion_matrix.Confus...  \n",
       "3  <sklearn.metrics._plot.confusion_matrix.Confus...  "
      ]
     },
     "execution_count": 74,
     "metadata": {},
     "output_type": "execute_result"
    }
   ],
   "source": [
    "metricas"
   ]
  },
  {
   "cell_type": "markdown",
   "id": "dbcf4fca",
   "metadata": {},
   "source": [
    "#### Avaliando Regressão Logística"
   ]
  },
  {
   "cell_type": "code",
   "execution_count": 76,
   "id": "40df9be3",
   "metadata": {},
   "outputs": [
    {
     "data": {
      "text/plain": [
       "classificador                                     LogisticRegression\n",
       "acuracia                                                    0.839583\n",
       "precisao                                                    0.841521\n",
       "recall                                                      0.831637\n",
       "f1                                                           0.83655\n",
       "matriz_confusao    <sklearn.metrics._plot.confusion_matrix.Confus...\n",
       "Name: 0, dtype: object"
      ]
     },
     "execution_count": 76,
     "metadata": {},
     "output_type": "execute_result"
    }
   ],
   "source": [
    "metricas.loc[0]"
   ]
  },
  {
   "cell_type": "code",
   "execution_count": 77,
   "id": "6b9a29de",
   "metadata": {},
   "outputs": [
    {
     "data": {
      "text/plain": [
       "<sklearn.metrics._plot.confusion_matrix.ConfusionMatrixDisplay at 0x22579df2640>"
      ]
     },
     "execution_count": 77,
     "metadata": {},
     "output_type": "execute_result"
    },
    {
     "data": {
      "image/png": "[encoded data removed]",
      "text/plain": [
       "<Figure size 432x288 with 2 Axes>"
      ]
     },
     "metadata": {
      "needs_background": "light"
     },
     "output_type": "display_data"
    }
   ],
   "source": [
    "import matplotlib.pyplot as plt\n",
    "%matplotlib inline\n",
    "\n",
    "metricas.loc[0, 'matriz_confusao'].plot()"
   ]
  },
  {
   "cell_type": "markdown",
   "id": "450f1e0d",
   "metadata": {},
   "source": [
    "#### Avaliando Árvore de Decisão"
   ]
  },
  {
   "cell_type": "code",
   "execution_count": 78,
   "id": "ebc58475",
   "metadata": {},
   "outputs": [
    {
     "data": {
      "text/plain": [
       "classificador                                 DecisionTreeClassifier\n",
       "acuracia                                                    0.802087\n",
       "precisao                                                    0.773019\n",
       "recall                                                      0.848081\n",
       "f1                                                          0.808813\n",
       "matriz_confusao    <sklearn.metrics._plot.confusion_matrix.Confus...\n",
       "Name: 1, dtype: object"
      ]
     },
     "execution_count": 78,
     "metadata": {},
     "output_type": "execute_result"
    }
   ],
   "source": [
    "metricas.loc[1]"
   ]
  },
  {
   "cell_type": "code",
   "execution_count": 79,
   "id": "035b468d",
   "metadata": {},
   "outputs": [
    {
     "data": {
      "text/plain": [
       "<sklearn.metrics._plot.confusion_matrix.ConfusionMatrixDisplay at 0x2257e4bcca0>"
      ]
     },
     "execution_count": 79,
     "metadata": {},
     "output_type": "execute_result"
    },
    {
     "data": {
      "image/png": "[encoded data removed]",
      "text/plain": [
       "<Figure size 432x288 with 2 Axes>"
      ]
     },
     "metadata": {
      "needs_background": "light"
     },
     "output_type": "display_data"
    }
   ],
   "source": [
    "metricas.loc[1, 'matriz_confusao'].plot()"
   ]
  },
  {
   "cell_type": "markdown",
   "id": "9ab18eea",
   "metadata": {},
   "source": [
    "#### Avaliando Random Forest"
   ]
  },
  {
   "cell_type": "code",
   "execution_count": 80,
   "id": "788e7a3f",
   "metadata": {},
   "outputs": [
    {
     "data": {
      "text/plain": [
       "classificador                                 RandomForestClassifier\n",
       "acuracia                                                     0.81523\n",
       "precisao                                                     0.78114\n",
       "recall                                                      0.869225\n",
       "f1                                                          0.822832\n",
       "matriz_confusao    <sklearn.metrics._plot.confusion_matrix.Confus...\n",
       "Name: 2, dtype: object"
      ]
     },
     "execution_count": 80,
     "metadata": {},
     "output_type": "execute_result"
    }
   ],
   "source": [
    "metricas.loc[2]"
   ]
  },
  {
   "cell_type": "code",
   "execution_count": 82,
   "id": "e97c9dc9",
   "metadata": {},
   "outputs": [
    {
     "data": {
      "text/plain": [
       "<sklearn.metrics._plot.confusion_matrix.ConfusionMatrixDisplay at 0x2257e4a5070>"
      ]
     },
     "execution_count": 82,
     "metadata": {},
     "output_type": "execute_result"
    },
    {
     "data": {
      "image/png": "[encoded data removed]",
      "text/plain": [
       "<Figure size 432x288 with 2 Axes>"
      ]
     },
     "metadata": {
      "needs_background": "light"
     },
     "output_type": "display_data"
    }
   ],
   "source": [
    "metricas.loc[2, 'matriz_confusao'].plot()"
   ]
  },
  {
   "cell_type": "markdown",
   "id": "15e24cc4",
   "metadata": {},
   "source": [
    "#### Avaliando Dummy"
   ]
  },
  {
   "cell_type": "code",
   "execution_count": 83,
   "id": "25a40b4a",
   "metadata": {},
   "outputs": [
    {
     "data": {
      "text/plain": [
       "classificador                                        DummyClassifier\n",
       "acuracia                                                    0.493622\n",
       "precisao                                                    0.493622\n",
       "recall                                                           1.0\n",
       "f1                                                          0.660973\n",
       "matriz_confusao    <sklearn.metrics._plot.confusion_matrix.Confus...\n",
       "Name: 3, dtype: object"
      ]
     },
     "execution_count": 83,
     "metadata": {},
     "output_type": "execute_result"
    }
   ],
   "source": [
    "metricas.loc[3]"
   ]
  },
  {
   "cell_type": "code",
   "execution_count": 84,
   "id": "f44f576e",
   "metadata": {},
   "outputs": [
    {
     "data": {
      "text/plain": [
       "<sklearn.metrics._plot.confusion_matrix.ConfusionMatrixDisplay at 0x2257e4bd130>"
      ]
     },
     "execution_count": 84,
     "metadata": {},
     "output_type": "execute_result"
    },
    {
     "data": {
      "image/png": "[encoded data removed]",
      "text/plain": [
       "<Figure size 432x288 with 2 Axes>"
      ]
     },
     "metadata": {
      "needs_background": "light"
     },
     "output_type": "display_data"
    }
   ],
   "source": [
    "metricas.loc[3, 'matriz_confusao'].plot()"
   ]
  },
  {
   "cell_type": "markdown",
   "id": "11d1df46",
   "metadata": {},
   "source": [
    "#### Conclusão sobre os modelos"
   ]
  },
  {
   "cell_type": "code",
   "execution_count": 85,
   "id": "138d8432",
   "metadata": {},
   "outputs": [
    {
     "data": {
      "text/html": [
       "<div>\n",
       "<style scoped>\n",
       "    .dataframe tbody tr th:only-of-type {\n",
       "        vertical-align: middle;\n",
       "    }\n",
       "\n",
       "    .dataframe tbody tr th {\n",
       "        vertical-align: top;\n",
       "    }\n",
       "\n",
       "    .dataframe thead th {\n",
       "        text-align: right;\n",
       "    }\n",
       "</style>\n",
       "<table border=\"1\" class=\"dataframe\">\n",
       "  <thead>\n",
       "    <tr style=\"text-align: right;\">\n",
       "      <th></th>\n",
       "      <th>classificador</th>\n",
       "      <th>acuracia</th>\n",
       "      <th>precisao</th>\n",
       "      <th>recall</th>\n",
       "      <th>f1</th>\n",
       "      <th>matriz_confusao</th>\n",
       "    </tr>\n",
       "  </thead>\n",
       "  <tbody>\n",
       "    <tr>\n",
       "      <th>0</th>\n",
       "      <td>LogisticRegression</td>\n",
       "      <td>0.839583</td>\n",
       "      <td>0.841521</td>\n",
       "      <td>0.831637</td>\n",
       "      <td>0.836550</td>\n",
       "      <td>&lt;sklearn.metrics._plot.confusion_matrix.Confus...</td>\n",
       "    </tr>\n",
       "    <tr>\n",
       "      <th>1</th>\n",
       "      <td>DecisionTreeClassifier</td>\n",
       "      <td>0.802087</td>\n",
       "      <td>0.773019</td>\n",
       "      <td>0.848081</td>\n",
       "      <td>0.808813</td>\n",
       "      <td>&lt;sklearn.metrics._plot.confusion_matrix.Confus...</td>\n",
       "    </tr>\n",
       "    <tr>\n",
       "      <th>2</th>\n",
       "      <td>RandomForestClassifier</td>\n",
       "      <td>0.815230</td>\n",
       "      <td>0.781140</td>\n",
       "      <td>0.869225</td>\n",
       "      <td>0.822832</td>\n",
       "      <td>&lt;sklearn.metrics._plot.confusion_matrix.Confus...</td>\n",
       "    </tr>\n",
       "    <tr>\n",
       "      <th>3</th>\n",
       "      <td>DummyClassifier</td>\n",
       "      <td>0.493622</td>\n",
       "      <td>0.493622</td>\n",
       "      <td>1.000000</td>\n",
       "      <td>0.660973</td>\n",
       "      <td>&lt;sklearn.metrics._plot.confusion_matrix.Confus...</td>\n",
       "    </tr>\n",
       "  </tbody>\n",
       "</table>\n",
       "</div>"
      ],
      "text/plain": [
       "            classificador  acuracia  precisao    recall        f1  \\\n",
       "0      LogisticRegression  0.839583  0.841521  0.831637  0.836550   \n",
       "1  DecisionTreeClassifier  0.802087  0.773019  0.848081  0.808813   \n",
       "2  RandomForestClassifier  0.815230  0.781140  0.869225  0.822832   \n",
       "3         DummyClassifier  0.493622  0.493622  1.000000  0.660973   \n",
       "\n",
       "                                     matriz_confusao  \n",
       "0  <sklearn.metrics._plot.confusion_matrix.Confus...  \n",
       "1  <sklearn.metrics._plot.confusion_matrix.Confus...  \n",
       "2  <sklearn.metrics._plot.confusion_matrix.Confus...  \n",
       "3  <sklearn.metrics._plot.confusion_matrix.Confus...  "
      ]
     },
     "execution_count": 85,
     "metadata": {},
     "output_type": "execute_result"
    }
   ],
   "source": [
    "metricas"
   ]
  },
  {
   "cell_type": "markdown",
   "id": "0acf313b",
   "metadata": {},
   "source": [
    "Em ambos os modelos, temos métricas que precisam ser melhoradas. Com atenção aos valores Falso Negativo ([1, 0] na matriz confusão) pois este é a classificação de, no nosso caso, Churn para um cliente não Churn.\n",
    "\n",
    "Vamos melhorar as métricas, com atenção especial à recall"
   ]
  },
  {
   "cell_type": "markdown",
   "id": "b6d14ab4",
   "metadata": {},
   "source": [
    "### Escolher o melhor modelo"
   ]
  },
  {
   "cell_type": "markdown",
   "id": "9c490296",
   "metadata": {},
   "source": [
    "Irei utilizar o `RandomForestClassifier` devido aos melhores resultados em relação ao recall"
   ]
  },
  {
   "cell_type": "markdown",
   "id": "bdd5ce59",
   "metadata": {},
   "source": [
    "#### Hiperparâmetros que podem ser melhorados"
   ]
  },
  {
   "cell_type": "markdown",
   "id": "b0f79a26",
   "metadata": {},
   "source": [
    "Conforme a documentação do modelo [RandomForestClassifier](https://scikit-learn.org/stable/modules/generated/sklearn.ensemble.RandomForestClassifier.html), eu defini estes parâmetros para melhoria:\n",
    "* **n_estimators**: Número de estimadores (árvores)\n",
    "* **criterion**: Algoritmo utilizado na mensuração das árvores\n",
    "* **max_depth**: Profundidade dos nós (com muito cuidado para evitar o overfit)\n",
    "* **max_features**: Número de atributos considerado na mensuração de pesos dos nós\n",
    "* **bootstrap**: Flag para utilização do conjunto completo na definição das árvores"
   ]
  },
  {
   "cell_type": "code",
   "execution_count": 100,
   "id": "bd5f3e9d",
   "metadata": {},
   "outputs": [],
   "source": [
    "n_estimators = np.arange(100, 200, step=20)\n",
    "criterion = [\"gini\", \"entropy\", \"log_loss\"]\n",
    "max_depth = list(np.arange(2, 10, step=1))\n",
    "max_features = [\"sqrt\", \"log2\", None]\n",
    "bootstrap = [True, False]\n",
    "\n",
    "## Adicionado depois\n",
    "min_samples_split = np.arange(2, 10, step=2)\n",
    "min_samples_leaf = [1, 2, 4]"
   ]
  },
  {
   "cell_type": "code",
   "execution_count": 101,
   "id": "d01e5d70",
   "metadata": {},
   "outputs": [],
   "source": [
    "param_grid = {\n",
    "    \"n_estimators\": n_estimators,\n",
    "    \"criterion\": criterion,\n",
    "    \"max_features\": max_features,\n",
    "    \"max_depth\": max_depth,\n",
    "    \"bootstrap\": bootstrap,\n",
    "    \"min_samples_leaf\": min_samples_leaf,\n",
    "    \"min_samples_split\": min_samples_split\n",
    "}"
   ]
  },
  {
   "cell_type": "code",
   "execution_count": 102,
   "id": "5c1a7941",
   "metadata": {},
   "outputs": [],
   "source": [
    "from sklearn.model_selection import RandomizedSearchCV\n",
    "\n",
    "rf_boost = RandomForestClassifier(random_state=SEED)"
   ]
  },
  {
   "cell_type": "code",
   "execution_count": 103,
   "id": "6e3d3de2",
   "metadata": {},
   "outputs": [],
   "source": [
    "random_cv = RandomizedSearchCV(\n",
    "    rf_boost, param_grid, n_iter=5, cv=3, scoring=\"recall\", n_jobs=-1, random_state = SEED\n",
    ")"
   ]
  },
  {
   "cell_type": "code",
   "execution_count": 104,
   "id": "81e49eab",
   "metadata": {},
   "outputs": [],
   "source": [
    "rcv = random_cv.fit(x_train, y_train)"
   ]
  },
  {
   "cell_type": "code",
   "execution_count": 105,
   "id": "62bc26ae",
   "metadata": {},
   "outputs": [
    {
     "data": {
      "text/html": [
       "<div>\n",
       "<style scoped>\n",
       "    .dataframe tbody tr th:only-of-type {\n",
       "        vertical-align: middle;\n",
       "    }\n",
       "\n",
       "    .dataframe tbody tr th {\n",
       "        vertical-align: top;\n",
       "    }\n",
       "\n",
       "    .dataframe thead th {\n",
       "        text-align: right;\n",
       "    }\n",
       "</style>\n",
       "<table border=\"1\" class=\"dataframe\">\n",
       "  <thead>\n",
       "    <tr style=\"text-align: right;\">\n",
       "      <th></th>\n",
       "      <th>mean_fit_time</th>\n",
       "      <th>std_fit_time</th>\n",
       "      <th>mean_score_time</th>\n",
       "      <th>std_score_time</th>\n",
       "      <th>param_n_estimators</th>\n",
       "      <th>param_min_samples_split</th>\n",
       "      <th>param_min_samples_leaf</th>\n",
       "      <th>param_max_features</th>\n",
       "      <th>param_max_depth</th>\n",
       "      <th>param_criterion</th>\n",
       "      <th>param_bootstrap</th>\n",
       "      <th>params</th>\n",
       "      <th>split0_test_score</th>\n",
       "      <th>split1_test_score</th>\n",
       "      <th>split2_test_score</th>\n",
       "      <th>mean_test_score</th>\n",
       "      <th>std_test_score</th>\n",
       "      <th>rank_test_score</th>\n",
       "    </tr>\n",
       "  </thead>\n",
       "  <tbody>\n",
       "    <tr>\n",
       "      <th>0</th>\n",
       "      <td>0.215895</td>\n",
       "      <td>0.005813</td>\n",
       "      <td>0.021800</td>\n",
       "      <td>0.002398</td>\n",
       "      <td>100</td>\n",
       "      <td>8</td>\n",
       "      <td>2</td>\n",
       "      <td>sqrt</td>\n",
       "      <td>2</td>\n",
       "      <td>log_loss</td>\n",
       "      <td>True</td>\n",
       "      <td>{'n_estimators': 100, 'min_samples_split': 8, ...</td>\n",
       "      <td>0.866821</td>\n",
       "      <td>0.872209</td>\n",
       "      <td>0.842956</td>\n",
       "      <td>0.860662</td>\n",
       "      <td>0.012712</td>\n",
       "      <td>5</td>\n",
       "    </tr>\n",
       "    <tr>\n",
       "      <th>1</th>\n",
       "      <td>0.570284</td>\n",
       "      <td>0.007795</td>\n",
       "      <td>0.049370</td>\n",
       "      <td>0.002416</td>\n",
       "      <td>180</td>\n",
       "      <td>6</td>\n",
       "      <td>2</td>\n",
       "      <td>log2</td>\n",
       "      <td>6</td>\n",
       "      <td>entropy</td>\n",
       "      <td>True</td>\n",
       "      <td>{'n_estimators': 180, 'min_samples_split': 6, ...</td>\n",
       "      <td>0.878368</td>\n",
       "      <td>0.876059</td>\n",
       "      <td>0.883757</td>\n",
       "      <td>0.879394</td>\n",
       "      <td>0.003226</td>\n",
       "      <td>3</td>\n",
       "    </tr>\n",
       "    <tr>\n",
       "      <th>2</th>\n",
       "      <td>0.684094</td>\n",
       "      <td>0.011911</td>\n",
       "      <td>0.055626</td>\n",
       "      <td>0.001997</td>\n",
       "      <td>180</td>\n",
       "      <td>8</td>\n",
       "      <td>4</td>\n",
       "      <td>log2</td>\n",
       "      <td>8</td>\n",
       "      <td>log_loss</td>\n",
       "      <td>True</td>\n",
       "      <td>{'n_estimators': 180, 'min_samples_split': 8, ...</td>\n",
       "      <td>0.876828</td>\n",
       "      <td>0.876059</td>\n",
       "      <td>0.889145</td>\n",
       "      <td>0.880677</td>\n",
       "      <td>0.005996</td>\n",
       "      <td>2</td>\n",
       "    </tr>\n",
       "    <tr>\n",
       "      <th>3</th>\n",
       "      <td>0.615447</td>\n",
       "      <td>0.030673</td>\n",
       "      <td>0.023702</td>\n",
       "      <td>0.001192</td>\n",
       "      <td>120</td>\n",
       "      <td>4</td>\n",
       "      <td>4</td>\n",
       "      <td>None</td>\n",
       "      <td>2</td>\n",
       "      <td>log_loss</td>\n",
       "      <td>True</td>\n",
       "      <td>{'n_estimators': 120, 'min_samples_split': 4, ...</td>\n",
       "      <td>0.942263</td>\n",
       "      <td>0.936105</td>\n",
       "      <td>0.946882</td>\n",
       "      <td>0.941750</td>\n",
       "      <td>0.004415</td>\n",
       "      <td>1</td>\n",
       "    </tr>\n",
       "    <tr>\n",
       "      <th>4</th>\n",
       "      <td>0.219966</td>\n",
       "      <td>0.002207</td>\n",
       "      <td>0.023025</td>\n",
       "      <td>0.000064</td>\n",
       "      <td>120</td>\n",
       "      <td>4</td>\n",
       "      <td>2</td>\n",
       "      <td>log2</td>\n",
       "      <td>2</td>\n",
       "      <td>log_loss</td>\n",
       "      <td>False</td>\n",
       "      <td>{'n_estimators': 120, 'min_samples_split': 4, ...</td>\n",
       "      <td>0.856043</td>\n",
       "      <td>0.851424</td>\n",
       "      <td>0.879138</td>\n",
       "      <td>0.862202</td>\n",
       "      <td>0.012123</td>\n",
       "      <td>4</td>\n",
       "    </tr>\n",
       "  </tbody>\n",
       "</table>\n",
       "</div>"
      ],
      "text/plain": [
       "   mean_fit_time  std_fit_time  mean_score_time  std_score_time  \\\n",
       "0       0.215895      0.005813         0.021800        0.002398   \n",
       "1       0.570284      0.007795         0.049370        0.002416   \n",
       "2       0.684094      0.011911         0.055626        0.001997   \n",
       "3       0.615447      0.030673         0.023702        0.001192   \n",
       "4       0.219966      0.002207         0.023025        0.000064   \n",
       "\n",
       "  param_n_estimators param_min_samples_split param_min_samples_leaf  \\\n",
       "0                100                       8                      2   \n",
       "1                180                       6                      2   \n",
       "2                180                       8                      4   \n",
       "3                120                       4                      4   \n",
       "4                120                       4                      2   \n",
       "\n",
       "  param_max_features param_max_depth param_criterion param_bootstrap  \\\n",
       "0               sqrt               2        log_loss            True   \n",
       "1               log2               6         entropy            True   \n",
       "2               log2               8        log_loss            True   \n",
       "3               None               2        log_loss            True   \n",
       "4               log2               2        log_loss           False   \n",
       "\n",
       "                                              params  split0_test_score  \\\n",
       "0  {'n_estimators': 100, 'min_samples_split': 8, ...           0.866821   \n",
       "1  {'n_estimators': 180, 'min_samples_split': 6, ...           0.878368   \n",
       "2  {'n_estimators': 180, 'min_samples_split': 8, ...           0.876828   \n",
       "3  {'n_estimators': 120, 'min_samples_split': 4, ...           0.942263   \n",
       "4  {'n_estimators': 120, 'min_samples_split': 4, ...           0.856043   \n",
       "\n",
       "   split1_test_score  split2_test_score  mean_test_score  std_test_score  \\\n",
       "0           0.872209           0.842956         0.860662        0.012712   \n",
       "1           0.876059           0.883757         0.879394        0.003226   \n",
       "2           0.876059           0.889145         0.880677        0.005996   \n",
       "3           0.936105           0.946882         0.941750        0.004415   \n",
       "4           0.851424           0.879138         0.862202        0.012123   \n",
       "\n",
       "   rank_test_score  \n",
       "0                5  \n",
       "1                3  \n",
       "2                2  \n",
       "3                1  \n",
       "4                4  "
      ]
     },
     "execution_count": 105,
     "metadata": {},
     "output_type": "execute_result"
    }
   ],
   "source": [
    "pd.DataFrame(rcv.cv_results_)"
   ]
  },
  {
   "cell_type": "code",
   "execution_count": 106,
   "id": "96a24d75",
   "metadata": {},
   "outputs": [
    {
     "data": {
      "text/plain": [
       "{'n_estimators': 120,\n",
       " 'min_samples_split': 4,\n",
       " 'min_samples_leaf': 4,\n",
       " 'max_features': None,\n",
       " 'max_depth': 2,\n",
       " 'criterion': 'log_loss',\n",
       " 'bootstrap': True}"
      ]
     },
     "execution_count": 106,
     "metadata": {},
     "output_type": "execute_result"
    }
   ],
   "source": [
    "rcv.best_params_"
   ]
  },
  {
   "cell_type": "code",
   "execution_count": 107,
   "id": "a9ec0dfb",
   "metadata": {},
   "outputs": [
    {
     "data": {
      "text/html": [
       "<div>\n",
       "<style scoped>\n",
       "    .dataframe tbody tr th:only-of-type {\n",
       "        vertical-align: middle;\n",
       "    }\n",
       "\n",
       "    .dataframe tbody tr th {\n",
       "        vertical-align: top;\n",
       "    }\n",
       "\n",
       "    .dataframe thead th {\n",
       "        text-align: right;\n",
       "    }\n",
       "</style>\n",
       "<table border=\"1\" class=\"dataframe\">\n",
       "  <thead>\n",
       "    <tr style=\"text-align: right;\">\n",
       "      <th></th>\n",
       "      <th>classificador</th>\n",
       "      <th>acuracia</th>\n",
       "      <th>precisao</th>\n",
       "      <th>recall</th>\n",
       "      <th>f1</th>\n",
       "      <th>matriz_confusao</th>\n",
       "    </tr>\n",
       "  </thead>\n",
       "  <tbody>\n",
       "    <tr>\n",
       "      <th>0</th>\n",
       "      <td>LogisticRegression</td>\n",
       "      <td>0.839583</td>\n",
       "      <td>0.841521</td>\n",
       "      <td>0.831637</td>\n",
       "      <td>0.836550</td>\n",
       "      <td>&lt;sklearn.metrics._plot.confusion_matrix.Confus...</td>\n",
       "    </tr>\n",
       "    <tr>\n",
       "      <th>1</th>\n",
       "      <td>DecisionTreeClassifier</td>\n",
       "      <td>0.802087</td>\n",
       "      <td>0.773019</td>\n",
       "      <td>0.848081</td>\n",
       "      <td>0.808813</td>\n",
       "      <td>&lt;sklearn.metrics._plot.confusion_matrix.Confus...</td>\n",
       "    </tr>\n",
       "    <tr>\n",
       "      <th>2</th>\n",
       "      <td>RandomForestClassifier</td>\n",
       "      <td>0.815230</td>\n",
       "      <td>0.781140</td>\n",
       "      <td>0.869225</td>\n",
       "      <td>0.822832</td>\n",
       "      <td>&lt;sklearn.metrics._plot.confusion_matrix.Confus...</td>\n",
       "    </tr>\n",
       "    <tr>\n",
       "      <th>3</th>\n",
       "      <td>DummyClassifier</td>\n",
       "      <td>0.493622</td>\n",
       "      <td>0.493622</td>\n",
       "      <td>1.000000</td>\n",
       "      <td>0.660973</td>\n",
       "      <td>&lt;sklearn.metrics._plot.confusion_matrix.Confus...</td>\n",
       "    </tr>\n",
       "    <tr>\n",
       "      <th>4</th>\n",
       "      <td>RandomForestClassifierBoost</td>\n",
       "      <td>0.750290</td>\n",
       "      <td>0.679567</td>\n",
       "      <td>0.935004</td>\n",
       "      <td>0.787080</td>\n",
       "      <td>&lt;sklearn.metrics._plot.confusion_matrix.Confus...</td>\n",
       "    </tr>\n",
       "  </tbody>\n",
       "</table>\n",
       "</div>"
      ],
      "text/plain": [
       "                 classificador  acuracia  precisao    recall        f1  \\\n",
       "0           LogisticRegression  0.839583  0.841521  0.831637  0.836550   \n",
       "1       DecisionTreeClassifier  0.802087  0.773019  0.848081  0.808813   \n",
       "2       RandomForestClassifier  0.815230  0.781140  0.869225  0.822832   \n",
       "3              DummyClassifier  0.493622  0.493622  1.000000  0.660973   \n",
       "4  RandomForestClassifierBoost  0.750290  0.679567  0.935004  0.787080   \n",
       "\n",
       "                                     matriz_confusao  \n",
       "0  <sklearn.metrics._plot.confusion_matrix.Confus...  \n",
       "1  <sklearn.metrics._plot.confusion_matrix.Confus...  \n",
       "2  <sklearn.metrics._plot.confusion_matrix.Confus...  \n",
       "3  <sklearn.metrics._plot.confusion_matrix.Confus...  \n",
       "4  <sklearn.metrics._plot.confusion_matrix.Confus...  "
      ]
     },
     "execution_count": 107,
     "metadata": {},
     "output_type": "execute_result"
    }
   ],
   "source": [
    "metricas"
   ]
  },
  {
   "cell_type": "code",
   "execution_count": 108,
   "id": "3300529d",
   "metadata": {},
   "outputs": [],
   "source": [
    "rf_cv = RandomForestClassifier(**rcv.best_params_, random_state=SEED)\n",
    "\n",
    "rf_cv.fit(x_train, y_train)\n",
    "y_pred = rf_cv.predict(x_test)\n",
    "metricas.loc[idx + 1, 'classificador'] = 'RandomForestClassifierBoost'\n",
    "metricas.loc[idx + 1, 'acuracia'] = metrics.accuracy_score(y_test, y_pred)\n",
    "metricas.loc[idx + 1, 'precisao'] = metrics.precision_score(y_test, y_pred)\n",
    "metricas.loc[idx + 1, 'recall'] = metrics.recall_score(y_test, y_pred)\n",
    "metricas.loc[idx + 1, 'f1'] = metrics.f1_score(y_test, y_pred)\n",
    "cm = confusion_matrix(y_test, y_pred)\n",
    "metricas.loc[idx + 1, 'matriz_confusao'] = ConfusionMatrixDisplay(confusion_matrix=cm)"
   ]
  },
  {
   "cell_type": "code",
   "execution_count": 109,
   "id": "2ce62b6a",
   "metadata": {},
   "outputs": [
    {
     "data": {
      "text/html": [
       "<div>\n",
       "<style scoped>\n",
       "    .dataframe tbody tr th:only-of-type {\n",
       "        vertical-align: middle;\n",
       "    }\n",
       "\n",
       "    .dataframe tbody tr th {\n",
       "        vertical-align: top;\n",
       "    }\n",
       "\n",
       "    .dataframe thead th {\n",
       "        text-align: right;\n",
       "    }\n",
       "</style>\n",
       "<table border=\"1\" class=\"dataframe\">\n",
       "  <thead>\n",
       "    <tr style=\"text-align: right;\">\n",
       "      <th></th>\n",
       "      <th>classificador</th>\n",
       "      <th>acuracia</th>\n",
       "      <th>precisao</th>\n",
       "      <th>recall</th>\n",
       "      <th>f1</th>\n",
       "      <th>matriz_confusao</th>\n",
       "    </tr>\n",
       "  </thead>\n",
       "  <tbody>\n",
       "    <tr>\n",
       "      <th>0</th>\n",
       "      <td>LogisticRegression</td>\n",
       "      <td>0.839583</td>\n",
       "      <td>0.841521</td>\n",
       "      <td>0.831637</td>\n",
       "      <td>0.836550</td>\n",
       "      <td>&lt;sklearn.metrics._plot.confusion_matrix.Confus...</td>\n",
       "    </tr>\n",
       "    <tr>\n",
       "      <th>1</th>\n",
       "      <td>DecisionTreeClassifier</td>\n",
       "      <td>0.802087</td>\n",
       "      <td>0.773019</td>\n",
       "      <td>0.848081</td>\n",
       "      <td>0.808813</td>\n",
       "      <td>&lt;sklearn.metrics._plot.confusion_matrix.Confus...</td>\n",
       "    </tr>\n",
       "    <tr>\n",
       "      <th>2</th>\n",
       "      <td>RandomForestClassifier</td>\n",
       "      <td>0.815230</td>\n",
       "      <td>0.781140</td>\n",
       "      <td>0.869225</td>\n",
       "      <td>0.822832</td>\n",
       "      <td>&lt;sklearn.metrics._plot.confusion_matrix.Confus...</td>\n",
       "    </tr>\n",
       "    <tr>\n",
       "      <th>3</th>\n",
       "      <td>DummyClassifier</td>\n",
       "      <td>0.493622</td>\n",
       "      <td>0.493622</td>\n",
       "      <td>1.000000</td>\n",
       "      <td>0.660973</td>\n",
       "      <td>&lt;sklearn.metrics._plot.confusion_matrix.Confus...</td>\n",
       "    </tr>\n",
       "    <tr>\n",
       "      <th>4</th>\n",
       "      <td>RandomForestClassifierBoost</td>\n",
       "      <td>0.750290</td>\n",
       "      <td>0.679567</td>\n",
       "      <td>0.935004</td>\n",
       "      <td>0.787080</td>\n",
       "      <td>&lt;sklearn.metrics._plot.confusion_matrix.Confus...</td>\n",
       "    </tr>\n",
       "  </tbody>\n",
       "</table>\n",
       "</div>"
      ],
      "text/plain": [
       "                 classificador  acuracia  precisao    recall        f1  \\\n",
       "0           LogisticRegression  0.839583  0.841521  0.831637  0.836550   \n",
       "1       DecisionTreeClassifier  0.802087  0.773019  0.848081  0.808813   \n",
       "2       RandomForestClassifier  0.815230  0.781140  0.869225  0.822832   \n",
       "3              DummyClassifier  0.493622  0.493622  1.000000  0.660973   \n",
       "4  RandomForestClassifierBoost  0.750290  0.679567  0.935004  0.787080   \n",
       "\n",
       "                                     matriz_confusao  \n",
       "0  <sklearn.metrics._plot.confusion_matrix.Confus...  \n",
       "1  <sklearn.metrics._plot.confusion_matrix.Confus...  \n",
       "2  <sklearn.metrics._plot.confusion_matrix.Confus...  \n",
       "3  <sklearn.metrics._plot.confusion_matrix.Confus...  \n",
       "4  <sklearn.metrics._plot.confusion_matrix.Confus...  "
      ]
     },
     "execution_count": 109,
     "metadata": {},
     "output_type": "execute_result"
    }
   ],
   "source": [
    "metricas"
   ]
  },
  {
   "cell_type": "code",
   "execution_count": 110,
   "id": "e8aed966",
   "metadata": {},
   "outputs": [
    {
     "data": {
      "text/plain": [
       "<sklearn.metrics._plot.confusion_matrix.ConfusionMatrixDisplay at 0x225788e1880>"
      ]
     },
     "execution_count": 110,
     "metadata": {},
     "output_type": "execute_result"
    },
    {
     "data": {
      "image/png": "[encoded data removed]",
      "text/plain": [
       "<Figure size 432x288 with 2 Axes>"
      ]
     },
     "metadata": {
      "needs_background": "light"
     },
     "output_type": "display_data"
    }
   ],
   "source": [
    "metricas.loc[4, 'matriz_confusao'].plot()"
   ]
  },
  {
   "cell_type": "code",
   "execution_count": null,
   "id": "5d0dd9a4",
   "metadata": {},
   "outputs": [],
   "source": []
  }
 ],
 "metadata": {
  "kernelspec": {
   "display_name": "Python 3",
   "language": "python",
   "name": "python3"
  },
  "language_info": {
   "codemirror_mode": {
    "name": "ipython",
    "version": 3
   },
   "file_extension": ".py",
   "mimetype": "text/x-python",
   "name": "python",
   "nbconvert_exporter": "python",
   "pygments_lexer": "ipython3",
   "version": "3.8.8"
  }
 },
 "nbformat": 4,
 "nbformat_minor": 5
}
